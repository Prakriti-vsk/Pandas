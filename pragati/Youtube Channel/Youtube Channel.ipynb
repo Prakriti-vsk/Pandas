{
 "cells": [
  {
   "cell_type": "code",
   "execution_count": 1,
   "id": "f372777b-0c39-4cde-84e8-031d321c52a8",
   "metadata": {},
   "outputs": [],
   "source": [
    "#data set link:-https://www.kaggle.com/datasets/rahuldogra/top5000"
   ]
  },
  {
   "cell_type": "code",
   "execution_count": 3,
   "id": "aeaaa926-0d7a-41f4-b7e7-2749c756ef63",
   "metadata": {},
   "outputs": [],
   "source": [
    "import pandas as pd\n",
    "import numpy as np\n",
    "import seaborn as sns\n",
    "import matplotlib.pyplot as plt\n"
   ]
  },
  {
   "cell_type": "code",
   "execution_count": 7,
   "id": "b548f2fe-20e8-4297-8cbe-37d20c57f2e2",
   "metadata": {},
   "outputs": [],
   "source": [
    "data=pd.read_csv('top-5000-youtube-channels.xls')"
   ]
  },
  {
   "cell_type": "code",
   "execution_count": 9,
   "id": "400c886b-aead-4e0d-a2ad-2ed7f838ada7",
   "metadata": {},
   "outputs": [
    {
     "data": {
      "text/html": [
       "<div>\n",
       "<style scoped>\n",
       "    .dataframe tbody tr th:only-of-type {\n",
       "        vertical-align: middle;\n",
       "    }\n",
       "\n",
       "    .dataframe tbody tr th {\n",
       "        vertical-align: top;\n",
       "    }\n",
       "\n",
       "    .dataframe thead th {\n",
       "        text-align: right;\n",
       "    }\n",
       "</style>\n",
       "<table border=\"1\" class=\"dataframe\">\n",
       "  <thead>\n",
       "    <tr style=\"text-align: right;\">\n",
       "      <th></th>\n",
       "      <th>Rank</th>\n",
       "      <th>Grade</th>\n",
       "      <th>Channel name</th>\n",
       "      <th>Video Uploads</th>\n",
       "      <th>Subscribers</th>\n",
       "      <th>Video views</th>\n",
       "    </tr>\n",
       "  </thead>\n",
       "  <tbody>\n",
       "    <tr>\n",
       "      <th>0</th>\n",
       "      <td>1st</td>\n",
       "      <td>A++</td>\n",
       "      <td>Zee TV</td>\n",
       "      <td>82757</td>\n",
       "      <td>18752951</td>\n",
       "      <td>20869786591</td>\n",
       "    </tr>\n",
       "    <tr>\n",
       "      <th>1</th>\n",
       "      <td>2nd</td>\n",
       "      <td>A++</td>\n",
       "      <td>T-Series</td>\n",
       "      <td>12661</td>\n",
       "      <td>61196302</td>\n",
       "      <td>47548839843</td>\n",
       "    </tr>\n",
       "    <tr>\n",
       "      <th>2</th>\n",
       "      <td>3rd</td>\n",
       "      <td>A++</td>\n",
       "      <td>Cocomelon - Nursery Rhymes</td>\n",
       "      <td>373</td>\n",
       "      <td>19238251</td>\n",
       "      <td>9793305082</td>\n",
       "    </tr>\n",
       "    <tr>\n",
       "      <th>3</th>\n",
       "      <td>4th</td>\n",
       "      <td>A++</td>\n",
       "      <td>SET India</td>\n",
       "      <td>27323</td>\n",
       "      <td>31180559</td>\n",
       "      <td>22675948293</td>\n",
       "    </tr>\n",
       "    <tr>\n",
       "      <th>4</th>\n",
       "      <td>5th</td>\n",
       "      <td>A++</td>\n",
       "      <td>WWE</td>\n",
       "      <td>36756</td>\n",
       "      <td>32852346</td>\n",
       "      <td>26273668433</td>\n",
       "    </tr>\n",
       "  </tbody>\n",
       "</table>\n",
       "</div>"
      ],
      "text/plain": [
       "  Rank Grade                Channel name Video Uploads Subscribers  \\\n",
       "0  1st  A++                       Zee TV         82757    18752951   \n",
       "1  2nd  A++                     T-Series         12661    61196302   \n",
       "2  3rd  A++   Cocomelon - Nursery Rhymes           373    19238251   \n",
       "3  4th  A++                    SET India         27323    31180559   \n",
       "4  5th  A++                          WWE         36756    32852346   \n",
       "\n",
       "   Video views  \n",
       "0  20869786591  \n",
       "1  47548839843  \n",
       "2   9793305082  \n",
       "3  22675948293  \n",
       "4  26273668433  "
      ]
     },
     "execution_count": 9,
     "metadata": {},
     "output_type": "execute_result"
    }
   ],
   "source": [
    "data.head()"
   ]
  },
  {
   "cell_type": "code",
   "execution_count": 11,
   "id": "32c32f05-917a-48ad-88e3-52e97bb227ed",
   "metadata": {},
   "outputs": [],
   "source": [
    "#display 1st 5 rows"
   ]
  },
  {
   "cell_type": "code",
   "execution_count": 13,
   "id": "87e2aaaf-6071-40b7-9ec5-542d7a332a55",
   "metadata": {},
   "outputs": [
    {
     "data": {
      "text/html": [
       "<div>\n",
       "<style scoped>\n",
       "    .dataframe tbody tr th:only-of-type {\n",
       "        vertical-align: middle;\n",
       "    }\n",
       "\n",
       "    .dataframe tbody tr th {\n",
       "        vertical-align: top;\n",
       "    }\n",
       "\n",
       "    .dataframe thead th {\n",
       "        text-align: right;\n",
       "    }\n",
       "</style>\n",
       "<table border=\"1\" class=\"dataframe\">\n",
       "  <thead>\n",
       "    <tr style=\"text-align: right;\">\n",
       "      <th></th>\n",
       "      <th>Rank</th>\n",
       "      <th>Grade</th>\n",
       "      <th>Channel name</th>\n",
       "      <th>Video Uploads</th>\n",
       "      <th>Subscribers</th>\n",
       "      <th>Video views</th>\n",
       "    </tr>\n",
       "  </thead>\n",
       "  <tbody>\n",
       "    <tr>\n",
       "      <th>0</th>\n",
       "      <td>1st</td>\n",
       "      <td>A++</td>\n",
       "      <td>Zee TV</td>\n",
       "      <td>82757</td>\n",
       "      <td>18752951</td>\n",
       "      <td>20869786591</td>\n",
       "    </tr>\n",
       "    <tr>\n",
       "      <th>1</th>\n",
       "      <td>2nd</td>\n",
       "      <td>A++</td>\n",
       "      <td>T-Series</td>\n",
       "      <td>12661</td>\n",
       "      <td>61196302</td>\n",
       "      <td>47548839843</td>\n",
       "    </tr>\n",
       "    <tr>\n",
       "      <th>2</th>\n",
       "      <td>3rd</td>\n",
       "      <td>A++</td>\n",
       "      <td>Cocomelon - Nursery Rhymes</td>\n",
       "      <td>373</td>\n",
       "      <td>19238251</td>\n",
       "      <td>9793305082</td>\n",
       "    </tr>\n",
       "    <tr>\n",
       "      <th>3</th>\n",
       "      <td>4th</td>\n",
       "      <td>A++</td>\n",
       "      <td>SET India</td>\n",
       "      <td>27323</td>\n",
       "      <td>31180559</td>\n",
       "      <td>22675948293</td>\n",
       "    </tr>\n",
       "    <tr>\n",
       "      <th>4</th>\n",
       "      <td>5th</td>\n",
       "      <td>A++</td>\n",
       "      <td>WWE</td>\n",
       "      <td>36756</td>\n",
       "      <td>32852346</td>\n",
       "      <td>26273668433</td>\n",
       "    </tr>\n",
       "  </tbody>\n",
       "</table>\n",
       "</div>"
      ],
      "text/plain": [
       "  Rank Grade                Channel name Video Uploads Subscribers  \\\n",
       "0  1st  A++                       Zee TV         82757    18752951   \n",
       "1  2nd  A++                     T-Series         12661    61196302   \n",
       "2  3rd  A++   Cocomelon - Nursery Rhymes           373    19238251   \n",
       "3  4th  A++                    SET India         27323    31180559   \n",
       "4  5th  A++                          WWE         36756    32852346   \n",
       "\n",
       "   Video views  \n",
       "0  20869786591  \n",
       "1  47548839843  \n",
       "2   9793305082  \n",
       "3  22675948293  \n",
       "4  26273668433  "
      ]
     },
     "execution_count": 13,
     "metadata": {},
     "output_type": "execute_result"
    }
   ],
   "source": [
    "data.head(5)"
   ]
  },
  {
   "cell_type": "code",
   "execution_count": 15,
   "id": "3eb93ed3-5689-4328-bdbd-296f8535ce1c",
   "metadata": {},
   "outputs": [],
   "source": [
    "#display last 5 rows"
   ]
  },
  {
   "cell_type": "code",
   "execution_count": 19,
   "id": "4519f70d-3618-4fe3-9aa3-4ba9298eace8",
   "metadata": {},
   "outputs": [
    {
     "data": {
      "text/html": [
       "<div>\n",
       "<style scoped>\n",
       "    .dataframe tbody tr th:only-of-type {\n",
       "        vertical-align: middle;\n",
       "    }\n",
       "\n",
       "    .dataframe tbody tr th {\n",
       "        vertical-align: top;\n",
       "    }\n",
       "\n",
       "    .dataframe thead th {\n",
       "        text-align: right;\n",
       "    }\n",
       "</style>\n",
       "<table border=\"1\" class=\"dataframe\">\n",
       "  <thead>\n",
       "    <tr style=\"text-align: right;\">\n",
       "      <th></th>\n",
       "      <th>Rank</th>\n",
       "      <th>Grade</th>\n",
       "      <th>Channel name</th>\n",
       "      <th>Video Uploads</th>\n",
       "      <th>Subscribers</th>\n",
       "      <th>Video views</th>\n",
       "    </tr>\n",
       "  </thead>\n",
       "  <tbody>\n",
       "    <tr>\n",
       "      <th>5</th>\n",
       "      <td>6th</td>\n",
       "      <td>A++</td>\n",
       "      <td>Movieclips</td>\n",
       "      <td>30243</td>\n",
       "      <td>17149705</td>\n",
       "      <td>16618094724</td>\n",
       "    </tr>\n",
       "    <tr>\n",
       "      <th>6</th>\n",
       "      <td>7th</td>\n",
       "      <td>A++</td>\n",
       "      <td>netd müzik</td>\n",
       "      <td>8500</td>\n",
       "      <td>11373567</td>\n",
       "      <td>23898730764</td>\n",
       "    </tr>\n",
       "    <tr>\n",
       "      <th>7</th>\n",
       "      <td>8th</td>\n",
       "      <td>A++</td>\n",
       "      <td>ABS-CBN Entertainment</td>\n",
       "      <td>100147</td>\n",
       "      <td>12149206</td>\n",
       "      <td>17202609850</td>\n",
       "    </tr>\n",
       "    <tr>\n",
       "      <th>8</th>\n",
       "      <td>9th</td>\n",
       "      <td>A++</td>\n",
       "      <td>Ryan ToysReview</td>\n",
       "      <td>1140</td>\n",
       "      <td>16082927</td>\n",
       "      <td>24518098041</td>\n",
       "    </tr>\n",
       "    <tr>\n",
       "      <th>9</th>\n",
       "      <td>10th</td>\n",
       "      <td>A++</td>\n",
       "      <td>Zee Marathi</td>\n",
       "      <td>74607</td>\n",
       "      <td>2841811</td>\n",
       "      <td>2591830307</td>\n",
       "    </tr>\n",
       "    <tr>\n",
       "      <th>...</th>\n",
       "      <td>...</td>\n",
       "      <td>...</td>\n",
       "      <td>...</td>\n",
       "      <td>...</td>\n",
       "      <td>...</td>\n",
       "      <td>...</td>\n",
       "    </tr>\n",
       "    <tr>\n",
       "      <th>4995</th>\n",
       "      <td>4,996th</td>\n",
       "      <td>B+</td>\n",
       "      <td>Uras Benlioğlu</td>\n",
       "      <td>706</td>\n",
       "      <td>2072942</td>\n",
       "      <td>441202795</td>\n",
       "    </tr>\n",
       "    <tr>\n",
       "      <th>4996</th>\n",
       "      <td>4,997th</td>\n",
       "      <td>B+</td>\n",
       "      <td>HI-TECH MUSIC LTD</td>\n",
       "      <td>797</td>\n",
       "      <td>1055091</td>\n",
       "      <td>377331722</td>\n",
       "    </tr>\n",
       "    <tr>\n",
       "      <th>4997</th>\n",
       "      <td>4,998th</td>\n",
       "      <td>B+</td>\n",
       "      <td>Mastersaint</td>\n",
       "      <td>110</td>\n",
       "      <td>3265735</td>\n",
       "      <td>311758426</td>\n",
       "    </tr>\n",
       "    <tr>\n",
       "      <th>4998</th>\n",
       "      <td>4,999th</td>\n",
       "      <td>B+</td>\n",
       "      <td>Bruce McIntosh</td>\n",
       "      <td>3475</td>\n",
       "      <td>32990</td>\n",
       "      <td>14563764</td>\n",
       "    </tr>\n",
       "    <tr>\n",
       "      <th>4999</th>\n",
       "      <td>5,000th</td>\n",
       "      <td>B+</td>\n",
       "      <td>SehatAQUA</td>\n",
       "      <td>254</td>\n",
       "      <td>21172</td>\n",
       "      <td>73312511</td>\n",
       "    </tr>\n",
       "  </tbody>\n",
       "</table>\n",
       "<p>4995 rows × 6 columns</p>\n",
       "</div>"
      ],
      "text/plain": [
       "         Rank Grade           Channel name Video Uploads Subscribers  \\\n",
       "5         6th  A++              Movieclips         30243    17149705   \n",
       "6         7th  A++              netd müzik          8500    11373567   \n",
       "7         8th  A++   ABS-CBN Entertainment        100147    12149206   \n",
       "8         9th  A++         Ryan ToysReview          1140    16082927   \n",
       "9        10th  A++             Zee Marathi         74607     2841811   \n",
       "...       ...   ...                    ...           ...         ...   \n",
       "4995  4,996th   B+          Uras Benlioğlu           706     2072942   \n",
       "4996  4,997th   B+       HI-TECH MUSIC LTD           797     1055091   \n",
       "4997  4,998th   B+             Mastersaint           110     3265735   \n",
       "4998  4,999th   B+          Bruce McIntosh          3475       32990   \n",
       "4999  5,000th   B+               SehatAQUA           254       21172   \n",
       "\n",
       "      Video views  \n",
       "5     16618094724  \n",
       "6     23898730764  \n",
       "7     17202609850  \n",
       "8     24518098041  \n",
       "9      2591830307  \n",
       "...           ...  \n",
       "4995    441202795  \n",
       "4996    377331722  \n",
       "4997    311758426  \n",
       "4998     14563764  \n",
       "4999     73312511  \n",
       "\n",
       "[4995 rows x 6 columns]"
      ]
     },
     "execution_count": 19,
     "metadata": {},
     "output_type": "execute_result"
    }
   ],
   "source": [
    "data.tail(-5)"
   ]
  },
  {
   "cell_type": "code",
   "execution_count": 21,
   "id": "0f184a3a-e863-41c0-8af1-ea85bbc09a81",
   "metadata": {},
   "outputs": [],
   "source": [
    "#3.find shape of our dataset "
   ]
  },
  {
   "cell_type": "code",
   "execution_count": 23,
   "id": "19a5ea7e-44c2-468c-897b-3db7ac2ed171",
   "metadata": {},
   "outputs": [
    {
     "data": {
      "text/plain": [
       "(5000, 6)"
      ]
     },
     "execution_count": 23,
     "metadata": {},
     "output_type": "execute_result"
    }
   ],
   "source": [
    "data.shape"
   ]
  },
  {
   "cell_type": "code",
   "execution_count": 25,
   "id": "25ad875a-8f61-4b15-90a0-eac0c070b79c",
   "metadata": {},
   "outputs": [
    {
     "name": "stdout",
     "output_type": "stream",
     "text": [
      "Number or row:- 5000\n",
      "Number or columns:- 6\n"
     ]
    }
   ],
   "source": [
    "print('Number or row:-',data.shape[0])\n",
    "print('Number or columns:-',data.shape[1])"
   ]
  },
  {
   "cell_type": "code",
   "execution_count": 27,
   "id": "87c6cc55-a214-4405-8a25-6a31e54b9a15",
   "metadata": {},
   "outputs": [],
   "source": [
    "#4.Get information about the dataset"
   ]
  },
  {
   "cell_type": "code",
   "execution_count": 55,
   "id": "cf1e160b-d12d-403a-8df4-fa6990396050",
   "metadata": {},
   "outputs": [
    {
     "name": "stdout",
     "output_type": "stream",
     "text": [
      "<class 'pandas.core.frame.DataFrame'>\n",
      "RangeIndex: 5000 entries, 0 to 4999\n",
      "Data columns (total 6 columns):\n",
      " #   Column         Non-Null Count  Dtype \n",
      "---  ------         --------------  ----- \n",
      " 0   Rank           5000 non-null   object\n",
      " 1   Grade          5000 non-null   object\n",
      " 2   Channel name   5000 non-null   object\n",
      " 3   Video Uploads  5000 non-null   object\n",
      " 4   Subscribers    5000 non-null   object\n",
      " 5   Video views    5000 non-null   int64 \n",
      "dtypes: int64(1), object(5)\n",
      "memory usage: 234.5+ KB\n"
     ]
    }
   ],
   "source": [
    "data.info()"
   ]
  },
  {
   "cell_type": "code",
   "execution_count": 31,
   "id": "8afcd039-8005-4046-ac1d-cfc6da09c34e",
   "metadata": {},
   "outputs": [],
   "source": [
    "#5.overall statics about the dataframe"
   ]
  },
  {
   "cell_type": "code",
   "execution_count": 197,
   "id": "1ea6d6c1-522e-4c22-8a71-ef88b8e47dc9",
   "metadata": {},
   "outputs": [
    {
     "data": {
      "text/html": [
       "<div>\n",
       "<style scoped>\n",
       "    .dataframe tbody tr th:only-of-type {\n",
       "        vertical-align: middle;\n",
       "    }\n",
       "\n",
       "    .dataframe tbody tr th {\n",
       "        vertical-align: top;\n",
       "    }\n",
       "\n",
       "    .dataframe thead th {\n",
       "        text-align: right;\n",
       "    }\n",
       "</style>\n",
       "<table border=\"1\" class=\"dataframe\">\n",
       "  <thead>\n",
       "    <tr style=\"text-align: right;\">\n",
       "      <th></th>\n",
       "      <th>Rank</th>\n",
       "      <th>Grade</th>\n",
       "      <th>Video Uploads</th>\n",
       "      <th>Subscribers</th>\n",
       "      <th>Video views</th>\n",
       "      <th>Avg_Views</th>\n",
       "    </tr>\n",
       "  </thead>\n",
       "  <tbody>\n",
       "    <tr>\n",
       "      <th>count</th>\n",
       "      <td>4610</td>\n",
       "      <td>4610.00</td>\n",
       "      <td>4610.00</td>\n",
       "      <td>4610.00</td>\n",
       "      <td>4610.00</td>\n",
       "      <td>4610.00</td>\n",
       "    </tr>\n",
       "    <tr>\n",
       "      <th>unique</th>\n",
       "      <td>4610</td>\n",
       "      <td>NaN</td>\n",
       "      <td>NaN</td>\n",
       "      <td>NaN</td>\n",
       "      <td>NaN</td>\n",
       "      <td>NaN</td>\n",
       "    </tr>\n",
       "    <tr>\n",
       "      <th>top</th>\n",
       "      <td>1</td>\n",
       "      <td>NaN</td>\n",
       "      <td>NaN</td>\n",
       "      <td>NaN</td>\n",
       "      <td>NaN</td>\n",
       "      <td>NaN</td>\n",
       "    </tr>\n",
       "    <tr>\n",
       "      <th>freq</th>\n",
       "      <td>1</td>\n",
       "      <td>NaN</td>\n",
       "      <td>NaN</td>\n",
       "      <td>NaN</td>\n",
       "      <td>NaN</td>\n",
       "      <td>NaN</td>\n",
       "    </tr>\n",
       "    <tr>\n",
       "      <th>mean</th>\n",
       "      <td>NaN</td>\n",
       "      <td>1.63</td>\n",
       "      <td>4085.75</td>\n",
       "      <td>2621527.22</td>\n",
       "      <td>1138403081.18</td>\n",
       "      <td>5173346.67</td>\n",
       "    </tr>\n",
       "    <tr>\n",
       "      <th>std</th>\n",
       "      <td>NaN</td>\n",
       "      <td>0.84</td>\n",
       "      <td>17726.16</td>\n",
       "      <td>3927262.53</td>\n",
       "      <td>2068705922.53</td>\n",
       "      <td>17520068.84</td>\n",
       "    </tr>\n",
       "    <tr>\n",
       "      <th>min</th>\n",
       "      <td>NaN</td>\n",
       "      <td>1.00</td>\n",
       "      <td>1.00</td>\n",
       "      <td>301.00</td>\n",
       "      <td>75.00</td>\n",
       "      <td>53.55</td>\n",
       "    </tr>\n",
       "    <tr>\n",
       "      <th>25%</th>\n",
       "      <td>NaN</td>\n",
       "      <td>1.00</td>\n",
       "      <td>148.00</td>\n",
       "      <td>610192.50</td>\n",
       "      <td>218918407.50</td>\n",
       "      <td>322334.16</td>\n",
       "    </tr>\n",
       "    <tr>\n",
       "      <th>50%</th>\n",
       "      <td>NaN</td>\n",
       "      <td>1.00</td>\n",
       "      <td>464.00</td>\n",
       "      <td>1350884.00</td>\n",
       "      <td>536888608.50</td>\n",
       "      <td>947295.49</td>\n",
       "    </tr>\n",
       "    <tr>\n",
       "      <th>75%</th>\n",
       "      <td>NaN</td>\n",
       "      <td>2.00</td>\n",
       "      <td>1592.50</td>\n",
       "      <td>2950920.75</td>\n",
       "      <td>1195114974.75</td>\n",
       "      <td>2782315.49</td>\n",
       "    </tr>\n",
       "    <tr>\n",
       "      <th>max</th>\n",
       "      <td>NaN</td>\n",
       "      <td>5.00</td>\n",
       "      <td>422326.00</td>\n",
       "      <td>65995310.00</td>\n",
       "      <td>47548839843.00</td>\n",
       "      <td>333012122.00</td>\n",
       "    </tr>\n",
       "  </tbody>\n",
       "</table>\n",
       "</div>"
      ],
      "text/plain": [
       "        Rank   Grade  Video Uploads  Subscribers    Video views    Avg_Views\n",
       "count   4610 4610.00        4610.00      4610.00        4610.00      4610.00\n",
       "unique  4610     NaN            NaN          NaN            NaN          NaN\n",
       "top        1     NaN            NaN          NaN            NaN          NaN\n",
       "freq       1     NaN            NaN          NaN            NaN          NaN\n",
       "mean     NaN    1.63        4085.75   2621527.22  1138403081.18   5173346.67\n",
       "std      NaN    0.84       17726.16   3927262.53  2068705922.53  17520068.84\n",
       "min      NaN    1.00           1.00       301.00          75.00        53.55\n",
       "25%      NaN    1.00         148.00    610192.50   218918407.50    322334.16\n",
       "50%      NaN    1.00         464.00   1350884.00   536888608.50    947295.49\n",
       "75%      NaN    2.00        1592.50   2950920.75  1195114974.75   2782315.49\n",
       "max      NaN    5.00      422326.00  65995310.00 47548839843.00 333012122.00"
      ]
     },
     "execution_count": 197,
     "metadata": {},
     "output_type": "execute_result"
    }
   ],
   "source": [
    "data.describe(include='all')\n"
   ]
  },
  {
   "cell_type": "code",
   "execution_count": 57,
   "id": "59a8e4d9-ea8d-40d3-a7e9-1ea83d59d517",
   "metadata": {},
   "outputs": [],
   "source": [
    "pd.options.display.float_format = '{: .2f}'.format"
   ]
  },
  {
   "cell_type": "code",
   "execution_count": 61,
   "id": "112e0dc1-abcc-45aa-948a-234dc7238e0f",
   "metadata": {},
   "outputs": [],
   "source": [
    "#6.Data cleaning (Replace'--' to NaN)"
   ]
  },
  {
   "cell_type": "code",
   "execution_count": 65,
   "id": "2570c9e2-dc69-4218-a262-1ab11a71b6c6",
   "metadata": {},
   "outputs": [
    {
     "data": {
      "text/html": [
       "<div>\n",
       "<style scoped>\n",
       "    .dataframe tbody tr th:only-of-type {\n",
       "        vertical-align: middle;\n",
       "    }\n",
       "\n",
       "    .dataframe tbody tr th {\n",
       "        vertical-align: top;\n",
       "    }\n",
       "\n",
       "    .dataframe thead th {\n",
       "        text-align: right;\n",
       "    }\n",
       "</style>\n",
       "<table border=\"1\" class=\"dataframe\">\n",
       "  <thead>\n",
       "    <tr style=\"text-align: right;\">\n",
       "      <th></th>\n",
       "      <th>Rank</th>\n",
       "      <th>Grade</th>\n",
       "      <th>Channel name</th>\n",
       "      <th>Video Uploads</th>\n",
       "      <th>Subscribers</th>\n",
       "      <th>Video views</th>\n",
       "    </tr>\n",
       "  </thead>\n",
       "  <tbody>\n",
       "    <tr>\n",
       "      <th>0</th>\n",
       "      <td>1st</td>\n",
       "      <td>A++</td>\n",
       "      <td>Zee TV</td>\n",
       "      <td>82757</td>\n",
       "      <td>18752951</td>\n",
       "      <td>20869786591</td>\n",
       "    </tr>\n",
       "    <tr>\n",
       "      <th>1</th>\n",
       "      <td>2nd</td>\n",
       "      <td>A++</td>\n",
       "      <td>T-Series</td>\n",
       "      <td>12661</td>\n",
       "      <td>61196302</td>\n",
       "      <td>47548839843</td>\n",
       "    </tr>\n",
       "    <tr>\n",
       "      <th>2</th>\n",
       "      <td>3rd</td>\n",
       "      <td>A++</td>\n",
       "      <td>Cocomelon - Nursery Rhymes</td>\n",
       "      <td>373</td>\n",
       "      <td>19238251</td>\n",
       "      <td>9793305082</td>\n",
       "    </tr>\n",
       "    <tr>\n",
       "      <th>3</th>\n",
       "      <td>4th</td>\n",
       "      <td>A++</td>\n",
       "      <td>SET India</td>\n",
       "      <td>27323</td>\n",
       "      <td>31180559</td>\n",
       "      <td>22675948293</td>\n",
       "    </tr>\n",
       "    <tr>\n",
       "      <th>4</th>\n",
       "      <td>5th</td>\n",
       "      <td>A++</td>\n",
       "      <td>WWE</td>\n",
       "      <td>36756</td>\n",
       "      <td>32852346</td>\n",
       "      <td>26273668433</td>\n",
       "    </tr>\n",
       "    <tr>\n",
       "      <th>5</th>\n",
       "      <td>6th</td>\n",
       "      <td>A++</td>\n",
       "      <td>Movieclips</td>\n",
       "      <td>30243</td>\n",
       "      <td>17149705</td>\n",
       "      <td>16618094724</td>\n",
       "    </tr>\n",
       "    <tr>\n",
       "      <th>6</th>\n",
       "      <td>7th</td>\n",
       "      <td>A++</td>\n",
       "      <td>netd müzik</td>\n",
       "      <td>8500</td>\n",
       "      <td>11373567</td>\n",
       "      <td>23898730764</td>\n",
       "    </tr>\n",
       "    <tr>\n",
       "      <th>7</th>\n",
       "      <td>8th</td>\n",
       "      <td>A++</td>\n",
       "      <td>ABS-CBN Entertainment</td>\n",
       "      <td>100147</td>\n",
       "      <td>12149206</td>\n",
       "      <td>17202609850</td>\n",
       "    </tr>\n",
       "    <tr>\n",
       "      <th>8</th>\n",
       "      <td>9th</td>\n",
       "      <td>A++</td>\n",
       "      <td>Ryan ToysReview</td>\n",
       "      <td>1140</td>\n",
       "      <td>16082927</td>\n",
       "      <td>24518098041</td>\n",
       "    </tr>\n",
       "    <tr>\n",
       "      <th>9</th>\n",
       "      <td>10th</td>\n",
       "      <td>A++</td>\n",
       "      <td>Zee Marathi</td>\n",
       "      <td>74607</td>\n",
       "      <td>2841811</td>\n",
       "      <td>2591830307</td>\n",
       "    </tr>\n",
       "    <tr>\n",
       "      <th>10</th>\n",
       "      <td>11th</td>\n",
       "      <td>A+</td>\n",
       "      <td>5-Minute Crafts</td>\n",
       "      <td>2085</td>\n",
       "      <td>33492951</td>\n",
       "      <td>8587520379</td>\n",
       "    </tr>\n",
       "    <tr>\n",
       "      <th>11</th>\n",
       "      <td>12th</td>\n",
       "      <td>A+</td>\n",
       "      <td>Canal KondZilla</td>\n",
       "      <td>822</td>\n",
       "      <td>39409726</td>\n",
       "      <td>19291034467</td>\n",
       "    </tr>\n",
       "    <tr>\n",
       "      <th>12</th>\n",
       "      <td>13th</td>\n",
       "      <td>A+</td>\n",
       "      <td>Like Nastya Vlog</td>\n",
       "      <td>150</td>\n",
       "      <td>7662886</td>\n",
       "      <td>2540099931</td>\n",
       "    </tr>\n",
       "    <tr>\n",
       "      <th>13</th>\n",
       "      <td>14th</td>\n",
       "      <td>A+</td>\n",
       "      <td>Ozuna</td>\n",
       "      <td>50</td>\n",
       "      <td>18824912</td>\n",
       "      <td>8727783225</td>\n",
       "    </tr>\n",
       "    <tr>\n",
       "      <th>14</th>\n",
       "      <td>15th</td>\n",
       "      <td>A+</td>\n",
       "      <td>Wave Music</td>\n",
       "      <td>16119</td>\n",
       "      <td>15899764</td>\n",
       "      <td>10989179147</td>\n",
       "    </tr>\n",
       "    <tr>\n",
       "      <th>15</th>\n",
       "      <td>16th</td>\n",
       "      <td>A+</td>\n",
       "      <td>Ch3Thailand</td>\n",
       "      <td>49239</td>\n",
       "      <td>11569723</td>\n",
       "      <td>9388600275</td>\n",
       "    </tr>\n",
       "    <tr>\n",
       "      <th>16</th>\n",
       "      <td>17th</td>\n",
       "      <td>A+</td>\n",
       "      <td>WORLDSTARHIPHOP</td>\n",
       "      <td>4778</td>\n",
       "      <td>15830098</td>\n",
       "      <td>11102158475</td>\n",
       "    </tr>\n",
       "    <tr>\n",
       "      <th>17</th>\n",
       "      <td>18th</td>\n",
       "      <td>A+</td>\n",
       "      <td>Vlad and Nikita</td>\n",
       "      <td>53</td>\n",
       "      <td>--</td>\n",
       "      <td>1428274554</td>\n",
       "    </tr>\n",
       "    <tr>\n",
       "      <th>18</th>\n",
       "      <td>19th</td>\n",
       "      <td>A+</td>\n",
       "      <td>Badabun</td>\n",
       "      <td>3060</td>\n",
       "      <td>23603062</td>\n",
       "      <td>5860444053</td>\n",
       "    </tr>\n",
       "    <tr>\n",
       "      <th>19</th>\n",
       "      <td>20th</td>\n",
       "      <td>A+</td>\n",
       "      <td>WorkpointOfficial</td>\n",
       "      <td>24287</td>\n",
       "      <td>17687229</td>\n",
       "      <td>14022189654</td>\n",
       "    </tr>\n",
       "  </tbody>\n",
       "</table>\n",
       "</div>"
      ],
      "text/plain": [
       "    Rank Grade                Channel name Video Uploads Subscribers  \\\n",
       "0    1st  A++                       Zee TV         82757    18752951   \n",
       "1    2nd  A++                     T-Series         12661    61196302   \n",
       "2    3rd  A++   Cocomelon - Nursery Rhymes           373    19238251   \n",
       "3    4th  A++                    SET India         27323    31180559   \n",
       "4    5th  A++                          WWE         36756    32852346   \n",
       "5    6th  A++                   Movieclips         30243    17149705   \n",
       "6    7th  A++                   netd müzik          8500    11373567   \n",
       "7    8th  A++        ABS-CBN Entertainment        100147    12149206   \n",
       "8    9th  A++              Ryan ToysReview          1140    16082927   \n",
       "9   10th  A++                  Zee Marathi         74607     2841811   \n",
       "10  11th   A+              5-Minute Crafts          2085    33492951   \n",
       "11  12th   A+              Canal KondZilla           822    39409726   \n",
       "12  13th   A+             Like Nastya Vlog           150     7662886   \n",
       "13  14th   A+                        Ozuna            50    18824912   \n",
       "14  15th   A+                   Wave Music         16119    15899764   \n",
       "15  16th   A+                  Ch3Thailand         49239    11569723   \n",
       "16  17th   A+              WORLDSTARHIPHOP          4778    15830098   \n",
       "17  18th   A+              Vlad and Nikita            53         --    \n",
       "18  19th   A+                      Badabun          3060    23603062   \n",
       "19  20th   A+            WorkpointOfficial         24287    17687229   \n",
       "\n",
       "    Video views  \n",
       "0   20869786591  \n",
       "1   47548839843  \n",
       "2    9793305082  \n",
       "3   22675948293  \n",
       "4   26273668433  \n",
       "5   16618094724  \n",
       "6   23898730764  \n",
       "7   17202609850  \n",
       "8   24518098041  \n",
       "9    2591830307  \n",
       "10   8587520379  \n",
       "11  19291034467  \n",
       "12   2540099931  \n",
       "13   8727783225  \n",
       "14  10989179147  \n",
       "15   9388600275  \n",
       "16  11102158475  \n",
       "17   1428274554  \n",
       "18   5860444053  \n",
       "19  14022189654  "
      ]
     },
     "execution_count": 65,
     "metadata": {},
     "output_type": "execute_result"
    }
   ],
   "source": [
    "data.head(20)"
   ]
  },
  {
   "cell_type": "code",
   "execution_count": 69,
   "id": "8d732dcf-5ea2-46b9-b56e-5cd26ca465eb",
   "metadata": {},
   "outputs": [],
   "source": [
    "data=data.replace('--',np.nan,regex=True)"
   ]
  },
  {
   "cell_type": "code",
   "execution_count": 71,
   "id": "1554e5f0-3c53-4b05-b230-d053e29cc778",
   "metadata": {},
   "outputs": [
    {
     "data": {
      "text/html": [
       "<div>\n",
       "<style scoped>\n",
       "    .dataframe tbody tr th:only-of-type {\n",
       "        vertical-align: middle;\n",
       "    }\n",
       "\n",
       "    .dataframe tbody tr th {\n",
       "        vertical-align: top;\n",
       "    }\n",
       "\n",
       "    .dataframe thead th {\n",
       "        text-align: right;\n",
       "    }\n",
       "</style>\n",
       "<table border=\"1\" class=\"dataframe\">\n",
       "  <thead>\n",
       "    <tr style=\"text-align: right;\">\n",
       "      <th></th>\n",
       "      <th>Rank</th>\n",
       "      <th>Grade</th>\n",
       "      <th>Channel name</th>\n",
       "      <th>Video Uploads</th>\n",
       "      <th>Subscribers</th>\n",
       "      <th>Video views</th>\n",
       "    </tr>\n",
       "  </thead>\n",
       "  <tbody>\n",
       "    <tr>\n",
       "      <th>0</th>\n",
       "      <td>1st</td>\n",
       "      <td>A++</td>\n",
       "      <td>Zee TV</td>\n",
       "      <td>82757</td>\n",
       "      <td>18752951</td>\n",
       "      <td>20869786591</td>\n",
       "    </tr>\n",
       "    <tr>\n",
       "      <th>1</th>\n",
       "      <td>2nd</td>\n",
       "      <td>A++</td>\n",
       "      <td>T-Series</td>\n",
       "      <td>12661</td>\n",
       "      <td>61196302</td>\n",
       "      <td>47548839843</td>\n",
       "    </tr>\n",
       "    <tr>\n",
       "      <th>2</th>\n",
       "      <td>3rd</td>\n",
       "      <td>A++</td>\n",
       "      <td>Cocomelon - Nursery Rhymes</td>\n",
       "      <td>373</td>\n",
       "      <td>19238251</td>\n",
       "      <td>9793305082</td>\n",
       "    </tr>\n",
       "    <tr>\n",
       "      <th>3</th>\n",
       "      <td>4th</td>\n",
       "      <td>A++</td>\n",
       "      <td>SET India</td>\n",
       "      <td>27323</td>\n",
       "      <td>31180559</td>\n",
       "      <td>22675948293</td>\n",
       "    </tr>\n",
       "    <tr>\n",
       "      <th>4</th>\n",
       "      <td>5th</td>\n",
       "      <td>A++</td>\n",
       "      <td>WWE</td>\n",
       "      <td>36756</td>\n",
       "      <td>32852346</td>\n",
       "      <td>26273668433</td>\n",
       "    </tr>\n",
       "    <tr>\n",
       "      <th>...</th>\n",
       "      <td>...</td>\n",
       "      <td>...</td>\n",
       "      <td>...</td>\n",
       "      <td>...</td>\n",
       "      <td>...</td>\n",
       "      <td>...</td>\n",
       "    </tr>\n",
       "    <tr>\n",
       "      <th>4995</th>\n",
       "      <td>4,996th</td>\n",
       "      <td>B+</td>\n",
       "      <td>Uras Benlioğlu</td>\n",
       "      <td>706</td>\n",
       "      <td>2072942</td>\n",
       "      <td>441202795</td>\n",
       "    </tr>\n",
       "    <tr>\n",
       "      <th>4996</th>\n",
       "      <td>4,997th</td>\n",
       "      <td>B+</td>\n",
       "      <td>HI-TECH MUSIC LTD</td>\n",
       "      <td>797</td>\n",
       "      <td>1055091</td>\n",
       "      <td>377331722</td>\n",
       "    </tr>\n",
       "    <tr>\n",
       "      <th>4997</th>\n",
       "      <td>4,998th</td>\n",
       "      <td>B+</td>\n",
       "      <td>Mastersaint</td>\n",
       "      <td>110</td>\n",
       "      <td>3265735</td>\n",
       "      <td>311758426</td>\n",
       "    </tr>\n",
       "    <tr>\n",
       "      <th>4998</th>\n",
       "      <td>4,999th</td>\n",
       "      <td>B+</td>\n",
       "      <td>Bruce McIntosh</td>\n",
       "      <td>3475</td>\n",
       "      <td>32990</td>\n",
       "      <td>14563764</td>\n",
       "    </tr>\n",
       "    <tr>\n",
       "      <th>4999</th>\n",
       "      <td>5,000th</td>\n",
       "      <td>B+</td>\n",
       "      <td>SehatAQUA</td>\n",
       "      <td>254</td>\n",
       "      <td>21172</td>\n",
       "      <td>73312511</td>\n",
       "    </tr>\n",
       "  </tbody>\n",
       "</table>\n",
       "<p>5000 rows × 6 columns</p>\n",
       "</div>"
      ],
      "text/plain": [
       "         Rank Grade                Channel name Video Uploads Subscribers  \\\n",
       "0         1st  A++                       Zee TV         82757    18752951   \n",
       "1         2nd  A++                     T-Series         12661    61196302   \n",
       "2         3rd  A++   Cocomelon - Nursery Rhymes           373    19238251   \n",
       "3         4th  A++                    SET India         27323    31180559   \n",
       "4         5th  A++                          WWE         36756    32852346   \n",
       "...       ...   ...                         ...           ...         ...   \n",
       "4995  4,996th   B+               Uras Benlioğlu           706     2072942   \n",
       "4996  4,997th   B+            HI-TECH MUSIC LTD           797     1055091   \n",
       "4997  4,998th   B+                  Mastersaint           110     3265735   \n",
       "4998  4,999th   B+               Bruce McIntosh          3475       32990   \n",
       "4999  5,000th   B+                    SehatAQUA           254       21172   \n",
       "\n",
       "      Video views  \n",
       "0     20869786591  \n",
       "1     47548839843  \n",
       "2      9793305082  \n",
       "3     22675948293  \n",
       "4     26273668433  \n",
       "...           ...  \n",
       "4995    441202795  \n",
       "4996    377331722  \n",
       "4997    311758426  \n",
       "4998     14563764  \n",
       "4999     73312511  \n",
       "\n",
       "[5000 rows x 6 columns]"
      ]
     },
     "execution_count": 71,
     "metadata": {},
     "output_type": "execute_result"
    }
   ],
   "source": [
    "data"
   ]
  },
  {
   "cell_type": "code",
   "execution_count": 73,
   "id": "ed86d1f3-9a78-4993-91d2-d1ba09db028d",
   "metadata": {},
   "outputs": [],
   "source": [
    "#7.Check null values"
   ]
  },
  {
   "cell_type": "code",
   "execution_count": 75,
   "id": "9c9775e1-0562-495d-bca2-c90a82622dfc",
   "metadata": {},
   "outputs": [
    {
     "data": {
      "text/plain": [
       "Rank               0\n",
       "Grade              0\n",
       "Channel name       0\n",
       "Video Uploads      6\n",
       "Subscribers      387\n",
       "Video views        0\n",
       "dtype: int64"
      ]
     },
     "execution_count": 75,
     "metadata": {},
     "output_type": "execute_result"
    }
   ],
   "source": [
    "data.isnull().sum()"
   ]
  },
  {
   "cell_type": "code",
   "execution_count": 77,
   "id": "3bcb716a-c843-4750-8b25-524b7c7f9623",
   "metadata": {},
   "outputs": [],
   "source": [
    "per_missing=data.isnull().sum() * 100/ len(data)"
   ]
  },
  {
   "cell_type": "code",
   "execution_count": 79,
   "id": "966086e1-69a6-4fbb-8660-0173bc7267a7",
   "metadata": {},
   "outputs": [
    {
     "data": {
      "text/plain": [
       "Rank            0.00\n",
       "Grade           0.00\n",
       "Channel name    0.00\n",
       "Video Uploads   0.12\n",
       "Subscribers     7.74\n",
       "Video views     0.00\n",
       "dtype: float64"
      ]
     },
     "execution_count": 79,
     "metadata": {},
     "output_type": "execute_result"
    }
   ],
   "source": [
    "per_missing"
   ]
  },
  {
   "cell_type": "code",
   "execution_count": 85,
   "id": "ea52acac-fe81-418b-9403-b07d33ba01da",
   "metadata": {},
   "outputs": [
    {
     "data": {
      "text/plain": [
       "<Axes: >"
      ]
     },
     "execution_count": 85,
     "metadata": {},
     "output_type": "execute_result"
    },
    {
     "data": {
      "image/png": "[encoded data removed]",
      "text/plain": [
       "<Figure size 640x480 with 2 Axes>"
      ]
     },
     "metadata": {},
     "output_type": "display_data"
    }
   ],
   "source": [
    "sns.heatmap(data.isnull())"
   ]
  },
  {
   "cell_type": "code",
   "execution_count": 83,
   "id": "37cf52d8-2d4a-41d6-b7d6-6bb5d7989e2c",
   "metadata": {},
   "outputs": [],
   "source": [
    "data.dropna(axis=0,inplace=True)"
   ]
  },
  {
   "cell_type": "code",
   "execution_count": 87,
   "id": "4cdad124-5153-4dcf-8fe5-91860db5c9e2",
   "metadata": {},
   "outputs": [],
   "source": [
    "#8.Data Cleaning"
   ]
  },
  {
   "cell_type": "code",
   "execution_count": 89,
   "id": "149f8802-6150-4e7d-b3f0-a269df8f743f",
   "metadata": {},
   "outputs": [
    {
     "data": {
      "text/html": [
       "<div>\n",
       "<style scoped>\n",
       "    .dataframe tbody tr th:only-of-type {\n",
       "        vertical-align: middle;\n",
       "    }\n",
       "\n",
       "    .dataframe tbody tr th {\n",
       "        vertical-align: top;\n",
       "    }\n",
       "\n",
       "    .dataframe thead th {\n",
       "        text-align: right;\n",
       "    }\n",
       "</style>\n",
       "<table border=\"1\" class=\"dataframe\">\n",
       "  <thead>\n",
       "    <tr style=\"text-align: right;\">\n",
       "      <th></th>\n",
       "      <th>Rank</th>\n",
       "      <th>Grade</th>\n",
       "      <th>Channel name</th>\n",
       "      <th>Video Uploads</th>\n",
       "      <th>Subscribers</th>\n",
       "      <th>Video views</th>\n",
       "    </tr>\n",
       "  </thead>\n",
       "  <tbody>\n",
       "    <tr>\n",
       "      <th>0</th>\n",
       "      <td>1st</td>\n",
       "      <td>A++</td>\n",
       "      <td>Zee TV</td>\n",
       "      <td>82757</td>\n",
       "      <td>18752951</td>\n",
       "      <td>20869786591</td>\n",
       "    </tr>\n",
       "    <tr>\n",
       "      <th>1</th>\n",
       "      <td>2nd</td>\n",
       "      <td>A++</td>\n",
       "      <td>T-Series</td>\n",
       "      <td>12661</td>\n",
       "      <td>61196302</td>\n",
       "      <td>47548839843</td>\n",
       "    </tr>\n",
       "    <tr>\n",
       "      <th>2</th>\n",
       "      <td>3rd</td>\n",
       "      <td>A++</td>\n",
       "      <td>Cocomelon - Nursery Rhymes</td>\n",
       "      <td>373</td>\n",
       "      <td>19238251</td>\n",
       "      <td>9793305082</td>\n",
       "    </tr>\n",
       "    <tr>\n",
       "      <th>3</th>\n",
       "      <td>4th</td>\n",
       "      <td>A++</td>\n",
       "      <td>SET India</td>\n",
       "      <td>27323</td>\n",
       "      <td>31180559</td>\n",
       "      <td>22675948293</td>\n",
       "    </tr>\n",
       "    <tr>\n",
       "      <th>4</th>\n",
       "      <td>5th</td>\n",
       "      <td>A++</td>\n",
       "      <td>WWE</td>\n",
       "      <td>36756</td>\n",
       "      <td>32852346</td>\n",
       "      <td>26273668433</td>\n",
       "    </tr>\n",
       "  </tbody>\n",
       "</table>\n",
       "</div>"
      ],
      "text/plain": [
       "  Rank Grade                Channel name Video Uploads Subscribers  \\\n",
       "0  1st  A++                       Zee TV         82757    18752951   \n",
       "1  2nd  A++                     T-Series         12661    61196302   \n",
       "2  3rd  A++   Cocomelon - Nursery Rhymes           373    19238251   \n",
       "3  4th  A++                    SET India         27323    31180559   \n",
       "4  5th  A++                          WWE         36756    32852346   \n",
       "\n",
       "   Video views  \n",
       "0  20869786591  \n",
       "1  47548839843  \n",
       "2   9793305082  \n",
       "3  22675948293  \n",
       "4  26273668433  "
      ]
     },
     "execution_count": 89,
     "metadata": {},
     "output_type": "execute_result"
    }
   ],
   "source": [
    "data.head()\n"
   ]
  },
  {
   "cell_type": "code",
   "execution_count": 91,
   "id": "dde8d895-b440-487d-b6b7-7c2acef70140",
   "metadata": {},
   "outputs": [
    {
     "data": {
      "text/html": [
       "<div>\n",
       "<style scoped>\n",
       "    .dataframe tbody tr th:only-of-type {\n",
       "        vertical-align: middle;\n",
       "    }\n",
       "\n",
       "    .dataframe tbody tr th {\n",
       "        vertical-align: top;\n",
       "    }\n",
       "\n",
       "    .dataframe thead th {\n",
       "        text-align: right;\n",
       "    }\n",
       "</style>\n",
       "<table border=\"1\" class=\"dataframe\">\n",
       "  <thead>\n",
       "    <tr style=\"text-align: right;\">\n",
       "      <th></th>\n",
       "      <th>Rank</th>\n",
       "      <th>Grade</th>\n",
       "      <th>Channel name</th>\n",
       "      <th>Video Uploads</th>\n",
       "      <th>Subscribers</th>\n",
       "      <th>Video views</th>\n",
       "    </tr>\n",
       "  </thead>\n",
       "  <tbody>\n",
       "    <tr>\n",
       "      <th>4995</th>\n",
       "      <td>4,996th</td>\n",
       "      <td>B+</td>\n",
       "      <td>Uras Benlioğlu</td>\n",
       "      <td>706</td>\n",
       "      <td>2072942</td>\n",
       "      <td>441202795</td>\n",
       "    </tr>\n",
       "    <tr>\n",
       "      <th>4996</th>\n",
       "      <td>4,997th</td>\n",
       "      <td>B+</td>\n",
       "      <td>HI-TECH MUSIC LTD</td>\n",
       "      <td>797</td>\n",
       "      <td>1055091</td>\n",
       "      <td>377331722</td>\n",
       "    </tr>\n",
       "    <tr>\n",
       "      <th>4997</th>\n",
       "      <td>4,998th</td>\n",
       "      <td>B+</td>\n",
       "      <td>Mastersaint</td>\n",
       "      <td>110</td>\n",
       "      <td>3265735</td>\n",
       "      <td>311758426</td>\n",
       "    </tr>\n",
       "    <tr>\n",
       "      <th>4998</th>\n",
       "      <td>4,999th</td>\n",
       "      <td>B+</td>\n",
       "      <td>Bruce McIntosh</td>\n",
       "      <td>3475</td>\n",
       "      <td>32990</td>\n",
       "      <td>14563764</td>\n",
       "    </tr>\n",
       "    <tr>\n",
       "      <th>4999</th>\n",
       "      <td>5,000th</td>\n",
       "      <td>B+</td>\n",
       "      <td>SehatAQUA</td>\n",
       "      <td>254</td>\n",
       "      <td>21172</td>\n",
       "      <td>73312511</td>\n",
       "    </tr>\n",
       "  </tbody>\n",
       "</table>\n",
       "</div>"
      ],
      "text/plain": [
       "         Rank Grade       Channel name Video Uploads Subscribers  Video views\n",
       "4995  4,996th   B+      Uras Benlioğlu           706     2072942    441202795\n",
       "4996  4,997th   B+   HI-TECH MUSIC LTD           797     1055091    377331722\n",
       "4997  4,998th   B+         Mastersaint           110     3265735    311758426\n",
       "4998  4,999th   B+      Bruce McIntosh          3475       32990     14563764\n",
       "4999  5,000th   B+           SehatAQUA           254       21172     73312511"
      ]
     },
     "execution_count": 91,
     "metadata": {},
     "output_type": "execute_result"
    }
   ],
   "source": [
    "data.tail()"
   ]
  },
  {
   "cell_type": "code",
   "execution_count": 93,
   "id": "c97d40a5-b796-46fc-8a71-27143d6e5d1f",
   "metadata": {},
   "outputs": [
    {
     "data": {
      "text/plain": [
       "Rank             object\n",
       "Grade            object\n",
       "Channel name     object\n",
       "Video Uploads    object\n",
       "Subscribers      object\n",
       "Video views       int64\n",
       "dtype: object"
      ]
     },
     "execution_count": 93,
     "metadata": {},
     "output_type": "execute_result"
    }
   ],
   "source": [
    "data.dtypes"
   ]
  },
  {
   "cell_type": "code",
   "execution_count": 95,
   "id": "c12814c5-8ecd-49c2-8f96-24292d81c49d",
   "metadata": {},
   "outputs": [],
   "source": [
    "data['Rank']=data['Rank'].str[0:-2]"
   ]
  },
  {
   "cell_type": "code",
   "execution_count": 101,
   "id": "a40122c1-fd7f-4610-a43d-2a2708df871b",
   "metadata": {},
   "outputs": [
    {
     "data": {
      "text/html": [
       "<div>\n",
       "<style scoped>\n",
       "    .dataframe tbody tr th:only-of-type {\n",
       "        vertical-align: middle;\n",
       "    }\n",
       "\n",
       "    .dataframe tbody tr th {\n",
       "        vertical-align: top;\n",
       "    }\n",
       "\n",
       "    .dataframe thead th {\n",
       "        text-align: right;\n",
       "    }\n",
       "</style>\n",
       "<table border=\"1\" class=\"dataframe\">\n",
       "  <thead>\n",
       "    <tr style=\"text-align: right;\">\n",
       "      <th></th>\n",
       "      <th>Rank</th>\n",
       "      <th>Grade</th>\n",
       "      <th>Channel name</th>\n",
       "      <th>Video Uploads</th>\n",
       "      <th>Subscribers</th>\n",
       "      <th>Video views</th>\n",
       "    </tr>\n",
       "  </thead>\n",
       "  <tbody>\n",
       "    <tr>\n",
       "      <th>0</th>\n",
       "      <td>1</td>\n",
       "      <td>A++</td>\n",
       "      <td>Zee TV</td>\n",
       "      <td>82757</td>\n",
       "      <td>18752951</td>\n",
       "      <td>20869786591</td>\n",
       "    </tr>\n",
       "    <tr>\n",
       "      <th>1</th>\n",
       "      <td>2</td>\n",
       "      <td>A++</td>\n",
       "      <td>T-Series</td>\n",
       "      <td>12661</td>\n",
       "      <td>61196302</td>\n",
       "      <td>47548839843</td>\n",
       "    </tr>\n",
       "    <tr>\n",
       "      <th>2</th>\n",
       "      <td>3</td>\n",
       "      <td>A++</td>\n",
       "      <td>Cocomelon - Nursery Rhymes</td>\n",
       "      <td>373</td>\n",
       "      <td>19238251</td>\n",
       "      <td>9793305082</td>\n",
       "    </tr>\n",
       "    <tr>\n",
       "      <th>3</th>\n",
       "      <td>4</td>\n",
       "      <td>A++</td>\n",
       "      <td>SET India</td>\n",
       "      <td>27323</td>\n",
       "      <td>31180559</td>\n",
       "      <td>22675948293</td>\n",
       "    </tr>\n",
       "    <tr>\n",
       "      <th>4</th>\n",
       "      <td>5</td>\n",
       "      <td>A++</td>\n",
       "      <td>WWE</td>\n",
       "      <td>36756</td>\n",
       "      <td>32852346</td>\n",
       "      <td>26273668433</td>\n",
       "    </tr>\n",
       "    <tr>\n",
       "      <th>...</th>\n",
       "      <td>...</td>\n",
       "      <td>...</td>\n",
       "      <td>...</td>\n",
       "      <td>...</td>\n",
       "      <td>...</td>\n",
       "      <td>...</td>\n",
       "    </tr>\n",
       "    <tr>\n",
       "      <th>4995</th>\n",
       "      <td>4996</td>\n",
       "      <td>B+</td>\n",
       "      <td>Uras Benlioğlu</td>\n",
       "      <td>706</td>\n",
       "      <td>2072942</td>\n",
       "      <td>441202795</td>\n",
       "    </tr>\n",
       "    <tr>\n",
       "      <th>4996</th>\n",
       "      <td>4997</td>\n",
       "      <td>B+</td>\n",
       "      <td>HI-TECH MUSIC LTD</td>\n",
       "      <td>797</td>\n",
       "      <td>1055091</td>\n",
       "      <td>377331722</td>\n",
       "    </tr>\n",
       "    <tr>\n",
       "      <th>4997</th>\n",
       "      <td>4998</td>\n",
       "      <td>B+</td>\n",
       "      <td>Mastersaint</td>\n",
       "      <td>110</td>\n",
       "      <td>3265735</td>\n",
       "      <td>311758426</td>\n",
       "    </tr>\n",
       "    <tr>\n",
       "      <th>4998</th>\n",
       "      <td>4999</td>\n",
       "      <td>B+</td>\n",
       "      <td>Bruce McIntosh</td>\n",
       "      <td>3475</td>\n",
       "      <td>32990</td>\n",
       "      <td>14563764</td>\n",
       "    </tr>\n",
       "    <tr>\n",
       "      <th>4999</th>\n",
       "      <td>5000</td>\n",
       "      <td>B+</td>\n",
       "      <td>SehatAQUA</td>\n",
       "      <td>254</td>\n",
       "      <td>21172</td>\n",
       "      <td>73312511</td>\n",
       "    </tr>\n",
       "  </tbody>\n",
       "</table>\n",
       "<p>4610 rows × 6 columns</p>\n",
       "</div>"
      ],
      "text/plain": [
       "      Rank Grade                Channel name Video Uploads Subscribers  \\\n",
       "0        1  A++                       Zee TV         82757    18752951   \n",
       "1        2  A++                     T-Series         12661    61196302   \n",
       "2        3  A++   Cocomelon - Nursery Rhymes           373    19238251   \n",
       "3        4  A++                    SET India         27323    31180559   \n",
       "4        5  A++                          WWE         36756    32852346   \n",
       "...    ...   ...                         ...           ...         ...   \n",
       "4995  4996   B+               Uras Benlioğlu           706     2072942   \n",
       "4996  4997   B+            HI-TECH MUSIC LTD           797     1055091   \n",
       "4997  4998   B+                  Mastersaint           110     3265735   \n",
       "4998  4999   B+               Bruce McIntosh          3475       32990   \n",
       "4999  5000   B+                    SehatAQUA           254       21172   \n",
       "\n",
       "      Video views  \n",
       "0     20869786591  \n",
       "1     47548839843  \n",
       "2      9793305082  \n",
       "3     22675948293  \n",
       "4     26273668433  \n",
       "...           ...  \n",
       "4995    441202795  \n",
       "4996    377331722  \n",
       "4997    311758426  \n",
       "4998     14563764  \n",
       "4999     73312511  \n",
       "\n",
       "[4610 rows x 6 columns]"
      ]
     },
     "execution_count": 101,
     "metadata": {},
     "output_type": "execute_result"
    }
   ],
   "source": [
    "data"
   ]
  },
  {
   "cell_type": "code",
   "execution_count": 99,
   "id": "10e91937-c471-43cc-ad47-b8fcf4fedebd",
   "metadata": {},
   "outputs": [],
   "source": [
    "data['Rank']=data['Rank'].str.replace(',','')"
   ]
  },
  {
   "cell_type": "code",
   "execution_count": 103,
   "id": "8a0239aa-7cf4-4e25-9d5c-8d95cb2fb3fb",
   "metadata": {},
   "outputs": [],
   "source": [
    "#data Cleaning [Video Uploads & subscribers]"
   ]
  },
  {
   "cell_type": "code",
   "execution_count": 105,
   "id": "07bbae2a-2742-44f9-a213-8c1af3da15c9",
   "metadata": {},
   "outputs": [
    {
     "data": {
      "text/html": [
       "<div>\n",
       "<style scoped>\n",
       "    .dataframe tbody tr th:only-of-type {\n",
       "        vertical-align: middle;\n",
       "    }\n",
       "\n",
       "    .dataframe tbody tr th {\n",
       "        vertical-align: top;\n",
       "    }\n",
       "\n",
       "    .dataframe thead th {\n",
       "        text-align: right;\n",
       "    }\n",
       "</style>\n",
       "<table border=\"1\" class=\"dataframe\">\n",
       "  <thead>\n",
       "    <tr style=\"text-align: right;\">\n",
       "      <th></th>\n",
       "      <th>Rank</th>\n",
       "      <th>Grade</th>\n",
       "      <th>Channel name</th>\n",
       "      <th>Video Uploads</th>\n",
       "      <th>Subscribers</th>\n",
       "      <th>Video views</th>\n",
       "    </tr>\n",
       "  </thead>\n",
       "  <tbody>\n",
       "    <tr>\n",
       "      <th>0</th>\n",
       "      <td>1</td>\n",
       "      <td>A++</td>\n",
       "      <td>Zee TV</td>\n",
       "      <td>82757</td>\n",
       "      <td>18752951</td>\n",
       "      <td>20869786591</td>\n",
       "    </tr>\n",
       "    <tr>\n",
       "      <th>1</th>\n",
       "      <td>2</td>\n",
       "      <td>A++</td>\n",
       "      <td>T-Series</td>\n",
       "      <td>12661</td>\n",
       "      <td>61196302</td>\n",
       "      <td>47548839843</td>\n",
       "    </tr>\n",
       "    <tr>\n",
       "      <th>2</th>\n",
       "      <td>3</td>\n",
       "      <td>A++</td>\n",
       "      <td>Cocomelon - Nursery Rhymes</td>\n",
       "      <td>373</td>\n",
       "      <td>19238251</td>\n",
       "      <td>9793305082</td>\n",
       "    </tr>\n",
       "    <tr>\n",
       "      <th>3</th>\n",
       "      <td>4</td>\n",
       "      <td>A++</td>\n",
       "      <td>SET India</td>\n",
       "      <td>27323</td>\n",
       "      <td>31180559</td>\n",
       "      <td>22675948293</td>\n",
       "    </tr>\n",
       "    <tr>\n",
       "      <th>4</th>\n",
       "      <td>5</td>\n",
       "      <td>A++</td>\n",
       "      <td>WWE</td>\n",
       "      <td>36756</td>\n",
       "      <td>32852346</td>\n",
       "      <td>26273668433</td>\n",
       "    </tr>\n",
       "  </tbody>\n",
       "</table>\n",
       "</div>"
      ],
      "text/plain": [
       "  Rank Grade                Channel name Video Uploads Subscribers  \\\n",
       "0    1  A++                       Zee TV         82757    18752951   \n",
       "1    2  A++                     T-Series         12661    61196302   \n",
       "2    3  A++   Cocomelon - Nursery Rhymes           373    19238251   \n",
       "3    4  A++                    SET India         27323    31180559   \n",
       "4    5  A++                          WWE         36756    32852346   \n",
       "\n",
       "   Video views  \n",
       "0  20869786591  \n",
       "1  47548839843  \n",
       "2   9793305082  \n",
       "3  22675948293  \n",
       "4  26273668433  "
      ]
     },
     "execution_count": 105,
     "metadata": {},
     "output_type": "execute_result"
    }
   ],
   "source": [
    "data.head()"
   ]
  },
  {
   "cell_type": "code",
   "execution_count": 107,
   "id": "9af4ab23-a973-4600-a7f1-defb1fe26287",
   "metadata": {},
   "outputs": [
    {
     "data": {
      "text/plain": [
       "Rank             object\n",
       "Grade            object\n",
       "Channel name     object\n",
       "Video Uploads    object\n",
       "Subscribers      object\n",
       "Video views       int64\n",
       "dtype: object"
      ]
     },
     "execution_count": 107,
     "metadata": {},
     "output_type": "execute_result"
    }
   ],
   "source": [
    "data.dtypes"
   ]
  },
  {
   "cell_type": "code",
   "execution_count": 109,
   "id": "d290a09b-67f1-4b73-8a1d-d30ea47e4819",
   "metadata": {},
   "outputs": [],
   "source": [
    "data['Video Uploads']=data['Video Uploads'].astype('int')"
   ]
  },
  {
   "cell_type": "code",
   "execution_count": 115,
   "id": "6e2a674e-6e71-4c97-bb03-9baa01006e43",
   "metadata": {},
   "outputs": [],
   "source": [
    "data['Subscribers']=data['Subscribers'].astype('int')"
   ]
  },
  {
   "cell_type": "code",
   "execution_count": 117,
   "id": "100a1388-a669-4eac-937f-e50a008cf071",
   "metadata": {},
   "outputs": [
    {
     "data": {
      "text/plain": [
       "Rank             object\n",
       "Grade            object\n",
       "Channel name     object\n",
       "Video Uploads     int32\n",
       "Subscribers       int32\n",
       "Video views       int64\n",
       "dtype: object"
      ]
     },
     "execution_count": 117,
     "metadata": {},
     "output_type": "execute_result"
    }
   ],
   "source": [
    "data.dtypes"
   ]
  },
  {
   "cell_type": "code",
   "execution_count": 119,
   "id": "edce19bc-8f95-4263-9842-e6c9371fe573",
   "metadata": {},
   "outputs": [],
   "source": [
    "#10.Data Cleaning Grade Columns"
   ]
  },
  {
   "cell_type": "code",
   "execution_count": 121,
   "id": "4f78e566-398e-46c6-aaad-1ff8e90c0dbb",
   "metadata": {},
   "outputs": [
    {
     "data": {
      "text/html": [
       "<div>\n",
       "<style scoped>\n",
       "    .dataframe tbody tr th:only-of-type {\n",
       "        vertical-align: middle;\n",
       "    }\n",
       "\n",
       "    .dataframe tbody tr th {\n",
       "        vertical-align: top;\n",
       "    }\n",
       "\n",
       "    .dataframe thead th {\n",
       "        text-align: right;\n",
       "    }\n",
       "</style>\n",
       "<table border=\"1\" class=\"dataframe\">\n",
       "  <thead>\n",
       "    <tr style=\"text-align: right;\">\n",
       "      <th></th>\n",
       "      <th>Rank</th>\n",
       "      <th>Grade</th>\n",
       "      <th>Channel name</th>\n",
       "      <th>Video Uploads</th>\n",
       "      <th>Subscribers</th>\n",
       "      <th>Video views</th>\n",
       "    </tr>\n",
       "  </thead>\n",
       "  <tbody>\n",
       "    <tr>\n",
       "      <th>0</th>\n",
       "      <td>1</td>\n",
       "      <td>A++</td>\n",
       "      <td>Zee TV</td>\n",
       "      <td>82757</td>\n",
       "      <td>18752951</td>\n",
       "      <td>20869786591</td>\n",
       "    </tr>\n",
       "    <tr>\n",
       "      <th>1</th>\n",
       "      <td>2</td>\n",
       "      <td>A++</td>\n",
       "      <td>T-Series</td>\n",
       "      <td>12661</td>\n",
       "      <td>61196302</td>\n",
       "      <td>47548839843</td>\n",
       "    </tr>\n",
       "    <tr>\n",
       "      <th>2</th>\n",
       "      <td>3</td>\n",
       "      <td>A++</td>\n",
       "      <td>Cocomelon - Nursery Rhymes</td>\n",
       "      <td>373</td>\n",
       "      <td>19238251</td>\n",
       "      <td>9793305082</td>\n",
       "    </tr>\n",
       "    <tr>\n",
       "      <th>3</th>\n",
       "      <td>4</td>\n",
       "      <td>A++</td>\n",
       "      <td>SET India</td>\n",
       "      <td>27323</td>\n",
       "      <td>31180559</td>\n",
       "      <td>22675948293</td>\n",
       "    </tr>\n",
       "    <tr>\n",
       "      <th>4</th>\n",
       "      <td>5</td>\n",
       "      <td>A++</td>\n",
       "      <td>WWE</td>\n",
       "      <td>36756</td>\n",
       "      <td>32852346</td>\n",
       "      <td>26273668433</td>\n",
       "    </tr>\n",
       "  </tbody>\n",
       "</table>\n",
       "</div>"
      ],
      "text/plain": [
       "  Rank Grade                Channel name  Video Uploads  Subscribers  \\\n",
       "0    1  A++                       Zee TV          82757     18752951   \n",
       "1    2  A++                     T-Series          12661     61196302   \n",
       "2    3  A++   Cocomelon - Nursery Rhymes            373     19238251   \n",
       "3    4  A++                    SET India          27323     31180559   \n",
       "4    5  A++                          WWE          36756     32852346   \n",
       "\n",
       "   Video views  \n",
       "0  20869786591  \n",
       "1  47548839843  \n",
       "2   9793305082  \n",
       "3  22675948293  \n",
       "4  26273668433  "
      ]
     },
     "execution_count": 121,
     "metadata": {},
     "output_type": "execute_result"
    }
   ],
   "source": [
    "data.head()\n"
   ]
  },
  {
   "cell_type": "code",
   "execution_count": 123,
   "id": "20f41fd9-1382-4e84-ac9f-c0701709ff48",
   "metadata": {},
   "outputs": [
    {
     "data": {
      "text/plain": [
       "array(['A++ ', 'A+ ', 'A ', 'A- ', 'B+ '], dtype=object)"
      ]
     },
     "execution_count": 123,
     "metadata": {},
     "output_type": "execute_result"
    }
   ],
   "source": [
    "data['Grade'].unique()"
   ]
  },
  {
   "cell_type": "code",
   "execution_count": 127,
   "id": "3c66e540-c0b8-427a-8248-b6a23f2ba7c3",
   "metadata": {},
   "outputs": [],
   "source": [
    "data['Grade']=data['Grade'].map({'A++ ':5, 'A+ ':4, 'A ':3, 'A- ':2, 'B+ ':1})"
   ]
  },
  {
   "cell_type": "code",
   "execution_count": 129,
   "id": "ffb5a78c-08e2-4512-b827-b49a355ef21b",
   "metadata": {},
   "outputs": [
    {
     "data": {
      "text/html": [
       "<div>\n",
       "<style scoped>\n",
       "    .dataframe tbody tr th:only-of-type {\n",
       "        vertical-align: middle;\n",
       "    }\n",
       "\n",
       "    .dataframe tbody tr th {\n",
       "        vertical-align: top;\n",
       "    }\n",
       "\n",
       "    .dataframe thead th {\n",
       "        text-align: right;\n",
       "    }\n",
       "</style>\n",
       "<table border=\"1\" class=\"dataframe\">\n",
       "  <thead>\n",
       "    <tr style=\"text-align: right;\">\n",
       "      <th></th>\n",
       "      <th>Rank</th>\n",
       "      <th>Grade</th>\n",
       "      <th>Channel name</th>\n",
       "      <th>Video Uploads</th>\n",
       "      <th>Subscribers</th>\n",
       "      <th>Video views</th>\n",
       "    </tr>\n",
       "  </thead>\n",
       "  <tbody>\n",
       "    <tr>\n",
       "      <th>0</th>\n",
       "      <td>1</td>\n",
       "      <td>5</td>\n",
       "      <td>Zee TV</td>\n",
       "      <td>82757</td>\n",
       "      <td>18752951</td>\n",
       "      <td>20869786591</td>\n",
       "    </tr>\n",
       "  </tbody>\n",
       "</table>\n",
       "</div>"
      ],
      "text/plain": [
       "  Rank  Grade Channel name  Video Uploads  Subscribers  Video views\n",
       "0    1      5       Zee TV          82757     18752951  20869786591"
      ]
     },
     "execution_count": 129,
     "metadata": {},
     "output_type": "execute_result"
    }
   ],
   "source": [
    "data.head(1)"
   ]
  },
  {
   "cell_type": "code",
   "execution_count": 131,
   "id": "539564df-891e-46be-8a35-4dfd0021bdbf",
   "metadata": {},
   "outputs": [],
   "source": [
    "#Find Average Views For Each Channel"
   ]
  },
  {
   "cell_type": "code",
   "execution_count": 133,
   "id": "3d710375-45a8-4832-924f-51931afe72d1",
   "metadata": {},
   "outputs": [
    {
     "data": {
      "text/plain": [
       "Index(['Rank', 'Grade', 'Channel name', 'Video Uploads', 'Subscribers',\n",
       "       'Video views'],\n",
       "      dtype='object')"
      ]
     },
     "execution_count": 133,
     "metadata": {},
     "output_type": "execute_result"
    }
   ],
   "source": [
    "data.columns"
   ]
  },
  {
   "cell_type": "code",
   "execution_count": 135,
   "id": "961ba927-f375-4c9b-af57-e71632f4cd65",
   "metadata": {},
   "outputs": [],
   "source": [
    "data['Avg_Views']=data['Video views']/data['Video Uploads']"
   ]
  },
  {
   "cell_type": "code",
   "execution_count": 137,
   "id": "91ef5407-bfe6-4abe-a91a-8fe4b4a1b269",
   "metadata": {},
   "outputs": [
    {
     "data": {
      "text/html": [
       "<div>\n",
       "<style scoped>\n",
       "    .dataframe tbody tr th:only-of-type {\n",
       "        vertical-align: middle;\n",
       "    }\n",
       "\n",
       "    .dataframe tbody tr th {\n",
       "        vertical-align: top;\n",
       "    }\n",
       "\n",
       "    .dataframe thead th {\n",
       "        text-align: right;\n",
       "    }\n",
       "</style>\n",
       "<table border=\"1\" class=\"dataframe\">\n",
       "  <thead>\n",
       "    <tr style=\"text-align: right;\">\n",
       "      <th></th>\n",
       "      <th>Rank</th>\n",
       "      <th>Grade</th>\n",
       "      <th>Channel name</th>\n",
       "      <th>Video Uploads</th>\n",
       "      <th>Subscribers</th>\n",
       "      <th>Video views</th>\n",
       "      <th>Avg_Views</th>\n",
       "    </tr>\n",
       "  </thead>\n",
       "  <tbody>\n",
       "    <tr>\n",
       "      <th>0</th>\n",
       "      <td>1</td>\n",
       "      <td>5</td>\n",
       "      <td>Zee TV</td>\n",
       "      <td>82757</td>\n",
       "      <td>18752951</td>\n",
       "      <td>20869786591</td>\n",
       "      <td>252181.53</td>\n",
       "    </tr>\n",
       "    <tr>\n",
       "      <th>1</th>\n",
       "      <td>2</td>\n",
       "      <td>5</td>\n",
       "      <td>T-Series</td>\n",
       "      <td>12661</td>\n",
       "      <td>61196302</td>\n",
       "      <td>47548839843</td>\n",
       "      <td>3755535.89</td>\n",
       "    </tr>\n",
       "    <tr>\n",
       "      <th>2</th>\n",
       "      <td>3</td>\n",
       "      <td>5</td>\n",
       "      <td>Cocomelon - Nursery Rhymes</td>\n",
       "      <td>373</td>\n",
       "      <td>19238251</td>\n",
       "      <td>9793305082</td>\n",
       "      <td>26255509.60</td>\n",
       "    </tr>\n",
       "    <tr>\n",
       "      <th>3</th>\n",
       "      <td>4</td>\n",
       "      <td>5</td>\n",
       "      <td>SET India</td>\n",
       "      <td>27323</td>\n",
       "      <td>31180559</td>\n",
       "      <td>22675948293</td>\n",
       "      <td>829921.62</td>\n",
       "    </tr>\n",
       "    <tr>\n",
       "      <th>4</th>\n",
       "      <td>5</td>\n",
       "      <td>5</td>\n",
       "      <td>WWE</td>\n",
       "      <td>36756</td>\n",
       "      <td>32852346</td>\n",
       "      <td>26273668433</td>\n",
       "      <td>714813.05</td>\n",
       "    </tr>\n",
       "  </tbody>\n",
       "</table>\n",
       "</div>"
      ],
      "text/plain": [
       "  Rank  Grade                Channel name  Video Uploads  Subscribers  \\\n",
       "0    1      5                      Zee TV          82757     18752951   \n",
       "1    2      5                    T-Series          12661     61196302   \n",
       "2    3      5  Cocomelon - Nursery Rhymes            373     19238251   \n",
       "3    4      5                   SET India          27323     31180559   \n",
       "4    5      5                         WWE          36756     32852346   \n",
       "\n",
       "   Video views   Avg_Views  \n",
       "0  20869786591   252181.53  \n",
       "1  47548839843  3755535.89  \n",
       "2   9793305082 26255509.60  \n",
       "3  22675948293   829921.62  \n",
       "4  26273668433   714813.05  "
      ]
     },
     "execution_count": 137,
     "metadata": {},
     "output_type": "execute_result"
    }
   ],
   "source": [
    "data.head(5)"
   ]
  },
  {
   "cell_type": "code",
   "execution_count": 139,
   "id": "580b4d70-b255-4b7c-816b-14bbabab8de9",
   "metadata": {},
   "outputs": [],
   "source": [
    "#12. Find Out Top Five Channels With Maximum Five Channels With Maximum Number Of Video Uploads\n"
   ]
  },
  {
   "cell_type": "code",
   "execution_count": 145,
   "id": "b8cfc89b-0833-476f-bbb1-049d81b6816d",
   "metadata": {},
   "outputs": [
    {
     "data": {
      "text/html": [
       "<div>\n",
       "<style scoped>\n",
       "    .dataframe tbody tr th:only-of-type {\n",
       "        vertical-align: middle;\n",
       "    }\n",
       "\n",
       "    .dataframe tbody tr th {\n",
       "        vertical-align: top;\n",
       "    }\n",
       "\n",
       "    .dataframe thead th {\n",
       "        text-align: right;\n",
       "    }\n",
       "</style>\n",
       "<table border=\"1\" class=\"dataframe\">\n",
       "  <thead>\n",
       "    <tr style=\"text-align: right;\">\n",
       "      <th></th>\n",
       "      <th>Rank</th>\n",
       "      <th>Grade</th>\n",
       "      <th>Channel name</th>\n",
       "      <th>Video Uploads</th>\n",
       "      <th>Subscribers</th>\n",
       "      <th>Video views</th>\n",
       "      <th>Avg_Views</th>\n",
       "    </tr>\n",
       "  </thead>\n",
       "  <tbody>\n",
       "    <tr>\n",
       "      <th>3453</th>\n",
       "      <td>3454</td>\n",
       "      <td>1</td>\n",
       "      <td>AP Archive</td>\n",
       "      <td>422326</td>\n",
       "      <td>746325</td>\n",
       "      <td>548619569</td>\n",
       "      <td>1299.04</td>\n",
       "    </tr>\n",
       "    <tr>\n",
       "      <th>1149</th>\n",
       "      <td>1150</td>\n",
       "      <td>2</td>\n",
       "      <td>YTN NEWS</td>\n",
       "      <td>355996</td>\n",
       "      <td>820108</td>\n",
       "      <td>1640347646</td>\n",
       "      <td>4607.77</td>\n",
       "    </tr>\n",
       "    <tr>\n",
       "      <th>2223</th>\n",
       "      <td>2224</td>\n",
       "      <td>1</td>\n",
       "      <td>SBS Drama</td>\n",
       "      <td>335521</td>\n",
       "      <td>1418619</td>\n",
       "      <td>1565758044</td>\n",
       "      <td>4666.65</td>\n",
       "    </tr>\n",
       "    <tr>\n",
       "      <th>323</th>\n",
       "      <td>324</td>\n",
       "      <td>3</td>\n",
       "      <td>GMA News</td>\n",
       "      <td>269065</td>\n",
       "      <td>2599175</td>\n",
       "      <td>2786949164</td>\n",
       "      <td>10357.90</td>\n",
       "    </tr>\n",
       "    <tr>\n",
       "      <th>2956</th>\n",
       "      <td>2957</td>\n",
       "      <td>1</td>\n",
       "      <td>MLB</td>\n",
       "      <td>267649</td>\n",
       "      <td>1434206</td>\n",
       "      <td>1329206392</td>\n",
       "      <td>4966.23</td>\n",
       "    </tr>\n",
       "  </tbody>\n",
       "</table>\n",
       "</div>"
      ],
      "text/plain": [
       "      Rank  Grade Channel name  Video Uploads  Subscribers  Video views  \\\n",
       "3453  3454      1   AP Archive         422326       746325    548619569   \n",
       "1149  1150      2     YTN NEWS         355996       820108   1640347646   \n",
       "2223  2224      1    SBS Drama         335521      1418619   1565758044   \n",
       "323    324      3     GMA News         269065      2599175   2786949164   \n",
       "2956  2957      1          MLB         267649      1434206   1329206392   \n",
       "\n",
       "      Avg_Views  \n",
       "3453    1299.04  \n",
       "1149    4607.77  \n",
       "2223    4666.65  \n",
       "323    10357.90  \n",
       "2956    4966.23  "
      ]
     },
     "execution_count": 145,
     "metadata": {},
     "output_type": "execute_result"
    }
   ],
   "source": [
    "data.sort_values(by='Video Uploads',ascending=False).head()"
   ]
  },
  {
   "cell_type": "code",
   "execution_count": 147,
   "id": "10634459-8ea1-47c0-8cf7-b47499815365",
   "metadata": {},
   "outputs": [],
   "source": [
    "#13.Find Correlation Matrix"
   ]
  },
  {
   "cell_type": "code",
   "execution_count": 165,
   "id": "ec8e8f78-caf6-4951-a5a9-5ee9438a98cc",
   "metadata": {},
   "outputs": [],
   "source": [
    "data = data.drop(columns=['Channel name'], axis=1)"
   ]
  },
  {
   "cell_type": "code",
   "execution_count": 167,
   "id": "a3ca8bed-b99f-43ae-9dba-22cc70210abc",
   "metadata": {},
   "outputs": [
    {
     "data": {
      "text/html": [
       "<div>\n",
       "<style scoped>\n",
       "    .dataframe tbody tr th:only-of-type {\n",
       "        vertical-align: middle;\n",
       "    }\n",
       "\n",
       "    .dataframe tbody tr th {\n",
       "        vertical-align: top;\n",
       "    }\n",
       "\n",
       "    .dataframe thead th {\n",
       "        text-align: right;\n",
       "    }\n",
       "</style>\n",
       "<table border=\"1\" class=\"dataframe\">\n",
       "  <thead>\n",
       "    <tr style=\"text-align: right;\">\n",
       "      <th></th>\n",
       "      <th>Rank</th>\n",
       "      <th>Grade</th>\n",
       "      <th>Video Uploads</th>\n",
       "      <th>Subscribers</th>\n",
       "      <th>Video views</th>\n",
       "      <th>Avg_Views</th>\n",
       "    </tr>\n",
       "  </thead>\n",
       "  <tbody>\n",
       "    <tr>\n",
       "      <th>Rank</th>\n",
       "      <td>1.00</td>\n",
       "      <td>-0.87</td>\n",
       "      <td>-0.07</td>\n",
       "      <td>-0.38</td>\n",
       "      <td>-0.40</td>\n",
       "      <td>-0.15</td>\n",
       "    </tr>\n",
       "    <tr>\n",
       "      <th>Grade</th>\n",
       "      <td>-0.87</td>\n",
       "      <td>1.00</td>\n",
       "      <td>0.09</td>\n",
       "      <td>0.43</td>\n",
       "      <td>0.48</td>\n",
       "      <td>0.16</td>\n",
       "    </tr>\n",
       "    <tr>\n",
       "      <th>Video Uploads</th>\n",
       "      <td>-0.07</td>\n",
       "      <td>0.09</td>\n",
       "      <td>1.00</td>\n",
       "      <td>0.01</td>\n",
       "      <td>0.09</td>\n",
       "      <td>-0.06</td>\n",
       "    </tr>\n",
       "    <tr>\n",
       "      <th>Subscribers</th>\n",
       "      <td>-0.38</td>\n",
       "      <td>0.43</td>\n",
       "      <td>0.01</td>\n",
       "      <td>1.00</td>\n",
       "      <td>0.79</td>\n",
       "      <td>0.29</td>\n",
       "    </tr>\n",
       "    <tr>\n",
       "      <th>Video views</th>\n",
       "      <td>-0.40</td>\n",
       "      <td>0.48</td>\n",
       "      <td>0.09</td>\n",
       "      <td>0.79</td>\n",
       "      <td>1.00</td>\n",
       "      <td>0.29</td>\n",
       "    </tr>\n",
       "    <tr>\n",
       "      <th>Avg_Views</th>\n",
       "      <td>-0.15</td>\n",
       "      <td>0.16</td>\n",
       "      <td>-0.06</td>\n",
       "      <td>0.29</td>\n",
       "      <td>0.29</td>\n",
       "      <td>1.00</td>\n",
       "    </tr>\n",
       "  </tbody>\n",
       "</table>\n",
       "</div>"
      ],
      "text/plain": [
       "               Rank  Grade  Video Uploads  Subscribers  Video views  Avg_Views\n",
       "Rank           1.00  -0.87          -0.07        -0.38        -0.40      -0.15\n",
       "Grade         -0.87   1.00           0.09         0.43         0.48       0.16\n",
       "Video Uploads -0.07   0.09           1.00         0.01         0.09      -0.06\n",
       "Subscribers   -0.38   0.43           0.01         1.00         0.79       0.29\n",
       "Video views   -0.40   0.48           0.09         0.79         1.00       0.29\n",
       "Avg_Views     -0.15   0.16          -0.06         0.29         0.29       1.00"
      ]
     },
     "execution_count": 167,
     "metadata": {},
     "output_type": "execute_result"
    }
   ],
   "source": [
    "data.corr()"
   ]
  },
  {
   "cell_type": "code",
   "execution_count": 169,
   "id": "dcd70d09-87fe-495c-8994-fe3064f035c8",
   "metadata": {},
   "outputs": [],
   "source": [
    "#14.Which Grade has a maximum number of video uploads?"
   ]
  },
  {
   "cell_type": "code",
   "execution_count": 171,
   "id": "7d3ebcc0-c39c-4191-8e0f-7ba1d50740a3",
   "metadata": {},
   "outputs": [
    {
     "data": {
      "text/plain": [
       "Index(['Rank', 'Grade', 'Video Uploads', 'Subscribers', 'Video views',\n",
       "       'Avg_Views'],\n",
       "      dtype='object')"
      ]
     },
     "execution_count": 171,
     "metadata": {},
     "output_type": "execute_result"
    }
   ],
   "source": [
    "data.columns"
   ]
  },
  {
   "cell_type": "code",
   "execution_count": 175,
   "id": "3f080ec9-685f-460b-8c31-006008060fe3",
   "metadata": {},
   "outputs": [
    {
     "data": {
      "text/plain": [
       "<Axes: xlabel='Grade', ylabel='Video Uploads'>"
      ]
     },
     "execution_count": 175,
     "metadata": {},
     "output_type": "execute_result"
    },
    {
     "data": {
      "image/png": "[encoded data removed]",
      "text/plain": [
       "<Figure size 640x480 with 1 Axes>"
      ]
     },
     "metadata": {},
     "output_type": "display_data"
    }
   ],
   "source": [
    "sns.barplot(x='Grade',y='Video Uploads',data=data)"
   ]
  },
  {
   "cell_type": "code",
   "execution_count": 185,
   "id": "4e237912-657c-4bf7-af4c-cab5f0b8a816",
   "metadata": {},
   "outputs": [
    {
     "data": {
      "text/plain": [
       "<Axes: xlabel='Grade', ylabel='Avg_Views'>"
      ]
     },
     "execution_count": 185,
     "metadata": {},
     "output_type": "execute_result"
    },
    {
     "data": {
      "image/png": "[encoded data removed]",
      "text/plain": [
       "<Figure size 640x480 with 1 Axes>"
      ]
     },
     "metadata": {},
     "output_type": "display_data"
    }
   ],
   "source": [
    "sns.barplot(x='Grade',y='Avg_Views',data=data)"
   ]
  },
  {
   "cell_type": "code",
   "execution_count": 177,
   "id": "830d04fe-5816-454c-9a36-7ea5124777ac",
   "metadata": {},
   "outputs": [],
   "source": [
    "#16.Which Grade Has The Highest NUmber Of subScribers"
   ]
  },
  {
   "cell_type": "code",
   "execution_count": 187,
   "id": "20d38706-e75f-4002-9a2a-d11ac808ef8e",
   "metadata": {},
   "outputs": [
    {
     "data": {
      "text/plain": [
       "<Axes: xlabel='Grade', ylabel='Subscribers'>"
      ]
     },
     "execution_count": 187,
     "metadata": {},
     "output_type": "execute_result"
    },
    {
     "data": {
      "image/png": "[encoded data removed]",
      "text/plain": [
       "<Figure size 640x480 with 1 Axes>"
      ]
     },
     "metadata": {},
     "output_type": "display_data"
    }
   ],
   "source": [
    "sns.barplot(x='Grade',y='Subscribers',data=data)"
   ]
  },
  {
   "cell_type": "code",
   "execution_count": 189,
   "id": "603a54ad-2ddd-4ffc-af5c-302f49f0c255",
   "metadata": {},
   "outputs": [],
   "source": [
    "#17. Which Grade Has The Highest Video Views"
   ]
  },
  {
   "cell_type": "code",
   "execution_count": 195,
   "id": "46f33389-e669-41c8-a512-4321f6642598",
   "metadata": {},
   "outputs": [
    {
     "ename": "TypeError",
     "evalue": "agg function failed [how->mean,dtype->object]",
     "output_type": "error",
     "traceback": [
      "\u001b[1;31m---------------------------------------------------------------------------\u001b[0m",
      "\u001b[1;31mTypeError\u001b[0m                                 Traceback (most recent call last)",
      "File \u001b[1;32m~\\anaconda3\\Lib\\site-packages\\pandas\\core\\groupby\\groupby.py:1942\u001b[0m, in \u001b[0;36mGroupBy._agg_py_fallback\u001b[1;34m(self, how, values, ndim, alt)\u001b[0m\n\u001b[0;32m   1941\u001b[0m \u001b[38;5;28;01mtry\u001b[39;00m:\n\u001b[1;32m-> 1942\u001b[0m     res_values \u001b[38;5;241m=\u001b[39m \u001b[38;5;28mself\u001b[39m\u001b[38;5;241m.\u001b[39m_grouper\u001b[38;5;241m.\u001b[39magg_series(ser, alt, preserve_dtype\u001b[38;5;241m=\u001b[39m\u001b[38;5;28;01mTrue\u001b[39;00m)\n\u001b[0;32m   1943\u001b[0m \u001b[38;5;28;01mexcept\u001b[39;00m \u001b[38;5;167;01mException\u001b[39;00m \u001b[38;5;28;01mas\u001b[39;00m err:\n",
      "File \u001b[1;32m~\\anaconda3\\Lib\\site-packages\\pandas\\core\\groupby\\ops.py:864\u001b[0m, in \u001b[0;36mBaseGrouper.agg_series\u001b[1;34m(self, obj, func, preserve_dtype)\u001b[0m\n\u001b[0;32m    862\u001b[0m     preserve_dtype \u001b[38;5;241m=\u001b[39m \u001b[38;5;28;01mTrue\u001b[39;00m\n\u001b[1;32m--> 864\u001b[0m result \u001b[38;5;241m=\u001b[39m \u001b[38;5;28mself\u001b[39m\u001b[38;5;241m.\u001b[39m_aggregate_series_pure_python(obj, func)\n\u001b[0;32m    866\u001b[0m npvalues \u001b[38;5;241m=\u001b[39m lib\u001b[38;5;241m.\u001b[39mmaybe_convert_objects(result, try_float\u001b[38;5;241m=\u001b[39m\u001b[38;5;28;01mFalse\u001b[39;00m)\n",
      "File \u001b[1;32m~\\anaconda3\\Lib\\site-packages\\pandas\\core\\groupby\\ops.py:885\u001b[0m, in \u001b[0;36mBaseGrouper._aggregate_series_pure_python\u001b[1;34m(self, obj, func)\u001b[0m\n\u001b[0;32m    884\u001b[0m \u001b[38;5;28;01mfor\u001b[39;00m i, group \u001b[38;5;129;01min\u001b[39;00m \u001b[38;5;28menumerate\u001b[39m(splitter):\n\u001b[1;32m--> 885\u001b[0m     res \u001b[38;5;241m=\u001b[39m func(group)\n\u001b[0;32m    886\u001b[0m     res \u001b[38;5;241m=\u001b[39m extract_result(res)\n",
      "File \u001b[1;32m~\\anaconda3\\Lib\\site-packages\\pandas\\core\\groupby\\groupby.py:2454\u001b[0m, in \u001b[0;36mGroupBy.mean.<locals>.<lambda>\u001b[1;34m(x)\u001b[0m\n\u001b[0;32m   2451\u001b[0m \u001b[38;5;28;01melse\u001b[39;00m:\n\u001b[0;32m   2452\u001b[0m     result \u001b[38;5;241m=\u001b[39m \u001b[38;5;28mself\u001b[39m\u001b[38;5;241m.\u001b[39m_cython_agg_general(\n\u001b[0;32m   2453\u001b[0m         \u001b[38;5;124m\"\u001b[39m\u001b[38;5;124mmean\u001b[39m\u001b[38;5;124m\"\u001b[39m,\n\u001b[1;32m-> 2454\u001b[0m         alt\u001b[38;5;241m=\u001b[39m\u001b[38;5;28;01mlambda\u001b[39;00m x: Series(x, copy\u001b[38;5;241m=\u001b[39m\u001b[38;5;28;01mFalse\u001b[39;00m)\u001b[38;5;241m.\u001b[39mmean(numeric_only\u001b[38;5;241m=\u001b[39mnumeric_only),\n\u001b[0;32m   2455\u001b[0m         numeric_only\u001b[38;5;241m=\u001b[39mnumeric_only,\n\u001b[0;32m   2456\u001b[0m     )\n\u001b[0;32m   2457\u001b[0m     \u001b[38;5;28;01mreturn\u001b[39;00m result\u001b[38;5;241m.\u001b[39m__finalize__(\u001b[38;5;28mself\u001b[39m\u001b[38;5;241m.\u001b[39mobj, method\u001b[38;5;241m=\u001b[39m\u001b[38;5;124m\"\u001b[39m\u001b[38;5;124mgroupby\u001b[39m\u001b[38;5;124m\"\u001b[39m)\n",
      "File \u001b[1;32m~\\anaconda3\\Lib\\site-packages\\pandas\\core\\series.py:6549\u001b[0m, in \u001b[0;36mSeries.mean\u001b[1;34m(self, axis, skipna, numeric_only, **kwargs)\u001b[0m\n\u001b[0;32m   6541\u001b[0m \u001b[38;5;129m@doc\u001b[39m(make_doc(\u001b[38;5;124m\"\u001b[39m\u001b[38;5;124mmean\u001b[39m\u001b[38;5;124m\"\u001b[39m, ndim\u001b[38;5;241m=\u001b[39m\u001b[38;5;241m1\u001b[39m))\n\u001b[0;32m   6542\u001b[0m \u001b[38;5;28;01mdef\u001b[39;00m \u001b[38;5;21mmean\u001b[39m(\n\u001b[0;32m   6543\u001b[0m     \u001b[38;5;28mself\u001b[39m,\n\u001b[1;32m   (...)\u001b[0m\n\u001b[0;32m   6547\u001b[0m     \u001b[38;5;241m*\u001b[39m\u001b[38;5;241m*\u001b[39mkwargs,\n\u001b[0;32m   6548\u001b[0m ):\n\u001b[1;32m-> 6549\u001b[0m     \u001b[38;5;28;01mreturn\u001b[39;00m NDFrame\u001b[38;5;241m.\u001b[39mmean(\u001b[38;5;28mself\u001b[39m, axis, skipna, numeric_only, \u001b[38;5;241m*\u001b[39m\u001b[38;5;241m*\u001b[39mkwargs)\n",
      "File \u001b[1;32m~\\anaconda3\\Lib\\site-packages\\pandas\\core\\generic.py:12420\u001b[0m, in \u001b[0;36mNDFrame.mean\u001b[1;34m(self, axis, skipna, numeric_only, **kwargs)\u001b[0m\n\u001b[0;32m  12413\u001b[0m \u001b[38;5;28;01mdef\u001b[39;00m \u001b[38;5;21mmean\u001b[39m(\n\u001b[0;32m  12414\u001b[0m     \u001b[38;5;28mself\u001b[39m,\n\u001b[0;32m  12415\u001b[0m     axis: Axis \u001b[38;5;241m|\u001b[39m \u001b[38;5;28;01mNone\u001b[39;00m \u001b[38;5;241m=\u001b[39m \u001b[38;5;241m0\u001b[39m,\n\u001b[1;32m   (...)\u001b[0m\n\u001b[0;32m  12418\u001b[0m     \u001b[38;5;241m*\u001b[39m\u001b[38;5;241m*\u001b[39mkwargs,\n\u001b[0;32m  12419\u001b[0m ) \u001b[38;5;241m-\u001b[39m\u001b[38;5;241m>\u001b[39m Series \u001b[38;5;241m|\u001b[39m \u001b[38;5;28mfloat\u001b[39m:\n\u001b[1;32m> 12420\u001b[0m     \u001b[38;5;28;01mreturn\u001b[39;00m \u001b[38;5;28mself\u001b[39m\u001b[38;5;241m.\u001b[39m_stat_function(\n\u001b[0;32m  12421\u001b[0m         \u001b[38;5;124m\"\u001b[39m\u001b[38;5;124mmean\u001b[39m\u001b[38;5;124m\"\u001b[39m, nanops\u001b[38;5;241m.\u001b[39mnanmean, axis, skipna, numeric_only, \u001b[38;5;241m*\u001b[39m\u001b[38;5;241m*\u001b[39mkwargs\n\u001b[0;32m  12422\u001b[0m     )\n",
      "File \u001b[1;32m~\\anaconda3\\Lib\\site-packages\\pandas\\core\\generic.py:12377\u001b[0m, in \u001b[0;36mNDFrame._stat_function\u001b[1;34m(self, name, func, axis, skipna, numeric_only, **kwargs)\u001b[0m\n\u001b[0;32m  12375\u001b[0m validate_bool_kwarg(skipna, \u001b[38;5;124m\"\u001b[39m\u001b[38;5;124mskipna\u001b[39m\u001b[38;5;124m\"\u001b[39m, none_allowed\u001b[38;5;241m=\u001b[39m\u001b[38;5;28;01mFalse\u001b[39;00m)\n\u001b[1;32m> 12377\u001b[0m \u001b[38;5;28;01mreturn\u001b[39;00m \u001b[38;5;28mself\u001b[39m\u001b[38;5;241m.\u001b[39m_reduce(\n\u001b[0;32m  12378\u001b[0m     func, name\u001b[38;5;241m=\u001b[39mname, axis\u001b[38;5;241m=\u001b[39maxis, skipna\u001b[38;5;241m=\u001b[39mskipna, numeric_only\u001b[38;5;241m=\u001b[39mnumeric_only\n\u001b[0;32m  12379\u001b[0m )\n",
      "File \u001b[1;32m~\\anaconda3\\Lib\\site-packages\\pandas\\core\\series.py:6457\u001b[0m, in \u001b[0;36mSeries._reduce\u001b[1;34m(self, op, name, axis, skipna, numeric_only, filter_type, **kwds)\u001b[0m\n\u001b[0;32m   6453\u001b[0m     \u001b[38;5;28;01mraise\u001b[39;00m \u001b[38;5;167;01mTypeError\u001b[39;00m(\n\u001b[0;32m   6454\u001b[0m         \u001b[38;5;124mf\u001b[39m\u001b[38;5;124m\"\u001b[39m\u001b[38;5;124mSeries.\u001b[39m\u001b[38;5;132;01m{\u001b[39;00mname\u001b[38;5;132;01m}\u001b[39;00m\u001b[38;5;124m does not allow \u001b[39m\u001b[38;5;132;01m{\u001b[39;00mkwd_name\u001b[38;5;132;01m}\u001b[39;00m\u001b[38;5;124m=\u001b[39m\u001b[38;5;132;01m{\u001b[39;00mnumeric_only\u001b[38;5;132;01m}\u001b[39;00m\u001b[38;5;124m \u001b[39m\u001b[38;5;124m\"\u001b[39m\n\u001b[0;32m   6455\u001b[0m         \u001b[38;5;124m\"\u001b[39m\u001b[38;5;124mwith non-numeric dtypes.\u001b[39m\u001b[38;5;124m\"\u001b[39m\n\u001b[0;32m   6456\u001b[0m     )\n\u001b[1;32m-> 6457\u001b[0m \u001b[38;5;28;01mreturn\u001b[39;00m op(delegate, skipna\u001b[38;5;241m=\u001b[39mskipna, \u001b[38;5;241m*\u001b[39m\u001b[38;5;241m*\u001b[39mkwds)\n",
      "File \u001b[1;32m~\\anaconda3\\Lib\\site-packages\\pandas\\core\\nanops.py:147\u001b[0m, in \u001b[0;36mbottleneck_switch.__call__.<locals>.f\u001b[1;34m(values, axis, skipna, **kwds)\u001b[0m\n\u001b[0;32m    146\u001b[0m \u001b[38;5;28;01melse\u001b[39;00m:\n\u001b[1;32m--> 147\u001b[0m     result \u001b[38;5;241m=\u001b[39m alt(values, axis\u001b[38;5;241m=\u001b[39maxis, skipna\u001b[38;5;241m=\u001b[39mskipna, \u001b[38;5;241m*\u001b[39m\u001b[38;5;241m*\u001b[39mkwds)\n\u001b[0;32m    149\u001b[0m \u001b[38;5;28;01mreturn\u001b[39;00m result\n",
      "File \u001b[1;32m~\\anaconda3\\Lib\\site-packages\\pandas\\core\\nanops.py:404\u001b[0m, in \u001b[0;36m_datetimelike_compat.<locals>.new_func\u001b[1;34m(values, axis, skipna, mask, **kwargs)\u001b[0m\n\u001b[0;32m    402\u001b[0m     mask \u001b[38;5;241m=\u001b[39m isna(values)\n\u001b[1;32m--> 404\u001b[0m result \u001b[38;5;241m=\u001b[39m func(values, axis\u001b[38;5;241m=\u001b[39maxis, skipna\u001b[38;5;241m=\u001b[39mskipna, mask\u001b[38;5;241m=\u001b[39mmask, \u001b[38;5;241m*\u001b[39m\u001b[38;5;241m*\u001b[39mkwargs)\n\u001b[0;32m    406\u001b[0m \u001b[38;5;28;01mif\u001b[39;00m datetimelike:\n",
      "File \u001b[1;32m~\\anaconda3\\Lib\\site-packages\\pandas\\core\\nanops.py:720\u001b[0m, in \u001b[0;36mnanmean\u001b[1;34m(values, axis, skipna, mask)\u001b[0m\n\u001b[0;32m    719\u001b[0m the_sum \u001b[38;5;241m=\u001b[39m values\u001b[38;5;241m.\u001b[39msum(axis, dtype\u001b[38;5;241m=\u001b[39mdtype_sum)\n\u001b[1;32m--> 720\u001b[0m the_sum \u001b[38;5;241m=\u001b[39m _ensure_numeric(the_sum)\n\u001b[0;32m    722\u001b[0m \u001b[38;5;28;01mif\u001b[39;00m axis \u001b[38;5;129;01mis\u001b[39;00m \u001b[38;5;129;01mnot\u001b[39;00m \u001b[38;5;28;01mNone\u001b[39;00m \u001b[38;5;129;01mand\u001b[39;00m \u001b[38;5;28mgetattr\u001b[39m(the_sum, \u001b[38;5;124m\"\u001b[39m\u001b[38;5;124mndim\u001b[39m\u001b[38;5;124m\"\u001b[39m, \u001b[38;5;28;01mFalse\u001b[39;00m):\n",
      "File \u001b[1;32m~\\anaconda3\\Lib\\site-packages\\pandas\\core\\nanops.py:1701\u001b[0m, in \u001b[0;36m_ensure_numeric\u001b[1;34m(x)\u001b[0m\n\u001b[0;32m   1699\u001b[0m \u001b[38;5;28;01mif\u001b[39;00m \u001b[38;5;28misinstance\u001b[39m(x, \u001b[38;5;28mstr\u001b[39m):\n\u001b[0;32m   1700\u001b[0m     \u001b[38;5;66;03m# GH#44008, GH#36703 avoid casting e.g. strings to numeric\u001b[39;00m\n\u001b[1;32m-> 1701\u001b[0m     \u001b[38;5;28;01mraise\u001b[39;00m \u001b[38;5;167;01mTypeError\u001b[39;00m(\u001b[38;5;124mf\u001b[39m\u001b[38;5;124m\"\u001b[39m\u001b[38;5;124mCould not convert string \u001b[39m\u001b[38;5;124m'\u001b[39m\u001b[38;5;132;01m{\u001b[39;00mx\u001b[38;5;132;01m}\u001b[39;00m\u001b[38;5;124m'\u001b[39m\u001b[38;5;124m to numeric\u001b[39m\u001b[38;5;124m\"\u001b[39m)\n\u001b[0;32m   1702\u001b[0m \u001b[38;5;28;01mtry\u001b[39;00m:\n",
      "\u001b[1;31mTypeError\u001b[0m: Could not convert string '2041204220432044204520462047204820492050205120522053205420552056205720582059206020612062206320642066206720682069207020712072207320742075207620772078207920802081208220832085208620872088208920902091209220932094209520962097209820992100210121022103210621072108210921102111211221132114211521162117211821202121212221232124212521272128212921302131213221332134213521362137213821392141214221432144214521462147214821492150215121522153215521562157215821592160216121622163216521662167216821692170217121722173217421752176217721782179218021812183218421862187218921902191219221932194219621972198219922002201220222032204220522062207220922102211221222132214221522162217221822202221222222232224222522262227222822292230223122322233223422352237223822392240224122422243224422452246224722482249225022512252225322542255225722582259226022612262226322652266226722682269227122722273227522762277227822792280228222832284228522862287228822892290229222932294229622972299230023012302230323042305230623072308230923102311231223132314231523182320232123222325232623272328232923302331233223332334233523362337234023412342234323442345234623472348235123522354235523562357235923602361236223632364236523662367236923702371237223732374237523762378237923802381238223832384238523862387238823892390239123922393239423952396239723982399240024012402240324052406240724092410241124122414241624172418241924202421242224232424242524262427242824292431243224332434243524362437243824392440244124432444244524462447244824492450245124522453245424552456245724582459246024612462246324642465246624672468246924712472247324742475247624772478247924802481248224832484248524862487248824892490249124922493249424952496249724982499250025012502250325042505250625072508250925102511251225132514251525162517251825192520252125222523252425252526252725282529253025312532253325342535253625372538253925402541254225432544254525472548254925502551255225532554255525562557255925612562256325642566256725682569257025722573257425752576257725802581258225832584258525862587258825892590259125922593259425952596259725982600260126022603260426052606260726082609261026112612261326142615261626172618261926212622262326242625262626272628262926302631263326342635263626372638263926402641264226432644264526462647264826492650265126522653265426552656265726582659266026612662266326652666266726682669267026712672267326742675267626772678267926802681268226832684268526862688268926902691269226932694269526962697269826992700270127032704270527062708270927102711271227152716271727182719272027212722272327242725272627272728272927302731273227332734273527372738273927402741274327442745274627472748274927502752275327542755275727582759276027612762276327642766276727682769277027712772277327742775277627772778277927802781278227832784278627872788278927902791279227942795279627972798279928002801280228032804280528072808281028122813281428152817281828192820282128222823282528262827282828292830283128322833283428362837283828392840284128422844284528462847284828492850285128522854285528562857285828592860286128622863286428652866286728682869287028712872287328742875287628772878287928802881288228832885288628872889289028912892289328942895289628972898289929002901290229032904290529062907290829092910291129122913291429152916291729182919292029212922292329242926292729282929293029312932293329342935293629372940294129422943294429452946294729482949295029512952295329542956295729582959296029622963296429652966296829692970297129722973297429752976297729782979298029812982298329842985298729882989299029912992299429952996299729982999300030013002300330043005300630073008300930103011301230133014301530163017301830193020302130223023302430253026302730283029303030313032303330343035303630373038303930403041304230433044304530463047304830493050305130533054305530563057305830593060306130623063306430653066306730683069307030713072307430753076307730783079308030813082308330843085308630883089309030913092309330943095309630983099310231033104310531063107310831093111311231133114311531163117311831193121312231233124312531263127312831293130313131323133313431353136313731383139314031413142314431453146314731483149315031513153315431553156315731583159316031613162316331643165316631673169317031713172317331743175317631773178317931803181318231833184318531863188318931903191319331943195319631973198319932003201320232033204320532063207320832093210321132123213321432153216321732183219322032213222322332243225322632273228322932303231323232333234323532363237323932403241324232433244324532463247324932503251325232533254325532563257325832593260326232633264326532663267326832693270327132723273327432753276327932803281328232833284328532863287328832893290329132923293329432953296329732983299330033013302330333043305330733093310331133123313331433153316331833193321332233233324332533263327332833293330333133323333333433363337333833393340334133423343334433453346334733483349335033513352335333543355335633573358335933603361336233633364336533663367336933703371337233733374337533773378337933803381338233833384338533863387338833893390339133923393339433953396339733983399340034013402340334043405340634073408340934103411341234133414341634173418341934203421342234233424342534263427342834293430343134323433343434353436343734383439344034413442344334443445344634473448344934503452345334543455345734583459346034613462346334643465346634673468346934703471347234733474347534763477347834793480348134823483348434853486348734883489349034913492349434953496349734983499350035013502350335053506350735083509351035123513351435153516351735183519352135223523352435253526352735283529353035313532353335343535353635373538354035413542354335443545354635473548354935503551355235533554355535563557355835593560356135623563356435653566356735683569357035713572357335743575357635773578357935803581358235833584358535873588358935903592359335943595359635983599360036013602360336043605360636073609361036113612361336143615361636173618361936203621362236233624362536263627362836293630363136323633363436353636363736383639364036413642364336443646364836493650365136533654365536563657365836593660366136623663366436653666366736683669367036713672367336743675367636773678367936803681368236833684368536873688368936903692369336943695369636973698369937003701370237033704370537063707370837103711371237133715371637173718371937203721372237233724372537263727372837293730373137323733373437353737373937403741374237433744374537463747374837493750375137523753375537563757375837593760376137623763376437653766376737703771377237733774377537763777377837793780378137823783378437853786378837893790379137923793379437953796379837993800380138033804380538063807380838093810381138123813381438153816381738183819382038213822382338243825382638273828382938303831383238343835383638373838383938413842384338443845384638473848384938503851385338543855385738583859386038613862386338643865386638673868386938703871387238733874387538763877387838793882388338843885388638873888388938913892389338943896389738983899390039013902390339043905390639073908390939103911391239133914391539163917391839193920392139223924392539263927392939313932393339343935393639373938393939403941394239433944394539463947394839493950395139523953395439553956395739583959396039613962396339653966396739683969397039713972397339743975397639773978397939803981398239833984398539863987398839903991399239933994399539963997399839994000400140024003400740084009401040114012401340144015401640174018401940204021402240234024402540264027402840294031403240334034403540364037403840394040404140424043404440454046404740484049405040514053405440554056405740584059406040624063406440654066406740684069407040714072407340744075407740794080408240834084408540864087408840894090409140924093409540964097409840994100410141024104410541064107410841094111411241134114411541164117411841204121412241234124412541264127412841294130413141324133413441364137413841394141414241434144414541464147414841494150415141524154415541564157415841594160416341644165416641674168416941704171417241734174417541764178417941804181418241834184418541884189419041914192419341944195419641974198419942004201420242034204420642074208420942104211421342144215421642174218421942214222422342244225422642274228422942304231423242334234423542364237423842394240424242434244424542464248424942504251425242544255425642574258425942604261426242634265426642674268426942704271427242734274427542764277427842794280428142824283428542864287428842894290429142924293429442954296429742984299430043014302430343044305430643074308430943104311431243134314431543164317431843194320432143224323432443254326432743284329433143324333433543364337433843394340434143424343434443454346434743484349435043514352435343544355435643574358435943604361436243634364436543664367436843694370437143724373437443754376437743794380438143824383438443854386438743884389439043914392439343944395439643974398439944004401440244034404440544064407440844094410441144124413441544164417441844194420442144224423442444254426442744284429443044314432443444354436443744384439444044414442444444464447444944504451445244534454445544564458445944604461446244634464446644674468446944704471447244734474447544764477447844794480448144824483448444854486448744884490449144924493449444954496449744984500450145024503450545064507450845094510451145124513451445154516451745184519452045214523452445254526452745284529453045314532453345344537453845394540454145424543454445454546454845494550455145524553455445554556455745584559456045614562456345644565456645674568456945704572457345754576457745784579458045814584458545864587458845894590459145944595459645974598459946004601460346044605460746084609461146124613461446154617461846194620462146224623462546264627462846294630463246334634463546364637463846394640464146424643464446454647464846494650465146524653465546564657465946604661466246634665466646674668467046714672467346744675467646774678467946804681468246834684468546864687468946904692469346944695469746984699470047014702470347044706470747084709471047114712471347144715471747184719472047214722472347244725472647274728472947304732473347344735473647374738473947404741474247434744474547464747474847504751475247534754475547564757475847594760476147624763476447654766476747684769477047714773477447754776477747784779478047814782478347844785478647884789479047914792479347944795479647974798479948004801480248044805480648074808480948104811481248134814481548164817481848194820482148224824482548264827482848294830483148324833483448354836483848394840484148424843484448464847484848494850485148524853485448554856485748584859486048614862486348644865486648674868486948704871487248734874487548764877487848794880488148824883488448854886488848894890489148924895489748984900490149024903490449054906490749084909491049114912491449154916491749184919492049214922492349244925492649274928492949304931493249334934493549364938493949404941494349444945494649474948495049514952495349544955495649584959496049614963496449654966496749684969497049714972497349744975497649774978497949804981498249834984498549864987498849894990499249934994499549964997499849995000' to numeric",
      "\nThe above exception was the direct cause of the following exception:\n",
      "\u001b[1;31mTypeError\u001b[0m                                 Traceback (most recent call last)",
      "Cell \u001b[1;32mIn[195], line 1\u001b[0m\n\u001b[1;32m----> 1\u001b[0m data\u001b[38;5;241m.\u001b[39mgroupby(\u001b[38;5;124m'\u001b[39m\u001b[38;5;124mGrade\u001b[39m\u001b[38;5;124m'\u001b[39m)\u001b[38;5;241m.\u001b[39mmean()\n",
      "File \u001b[1;32m~\\anaconda3\\Lib\\site-packages\\pandas\\core\\groupby\\groupby.py:2452\u001b[0m, in \u001b[0;36mGroupBy.mean\u001b[1;34m(self, numeric_only, engine, engine_kwargs)\u001b[0m\n\u001b[0;32m   2445\u001b[0m     \u001b[38;5;28;01mreturn\u001b[39;00m \u001b[38;5;28mself\u001b[39m\u001b[38;5;241m.\u001b[39m_numba_agg_general(\n\u001b[0;32m   2446\u001b[0m         grouped_mean,\n\u001b[0;32m   2447\u001b[0m         executor\u001b[38;5;241m.\u001b[39mfloat_dtype_mapping,\n\u001b[0;32m   2448\u001b[0m         engine_kwargs,\n\u001b[0;32m   2449\u001b[0m         min_periods\u001b[38;5;241m=\u001b[39m\u001b[38;5;241m0\u001b[39m,\n\u001b[0;32m   2450\u001b[0m     )\n\u001b[0;32m   2451\u001b[0m \u001b[38;5;28;01melse\u001b[39;00m:\n\u001b[1;32m-> 2452\u001b[0m     result \u001b[38;5;241m=\u001b[39m \u001b[38;5;28mself\u001b[39m\u001b[38;5;241m.\u001b[39m_cython_agg_general(\n\u001b[0;32m   2453\u001b[0m         \u001b[38;5;124m\"\u001b[39m\u001b[38;5;124mmean\u001b[39m\u001b[38;5;124m\"\u001b[39m,\n\u001b[0;32m   2454\u001b[0m         alt\u001b[38;5;241m=\u001b[39m\u001b[38;5;28;01mlambda\u001b[39;00m x: Series(x, copy\u001b[38;5;241m=\u001b[39m\u001b[38;5;28;01mFalse\u001b[39;00m)\u001b[38;5;241m.\u001b[39mmean(numeric_only\u001b[38;5;241m=\u001b[39mnumeric_only),\n\u001b[0;32m   2455\u001b[0m         numeric_only\u001b[38;5;241m=\u001b[39mnumeric_only,\n\u001b[0;32m   2456\u001b[0m     )\n\u001b[0;32m   2457\u001b[0m     \u001b[38;5;28;01mreturn\u001b[39;00m result\u001b[38;5;241m.\u001b[39m__finalize__(\u001b[38;5;28mself\u001b[39m\u001b[38;5;241m.\u001b[39mobj, method\u001b[38;5;241m=\u001b[39m\u001b[38;5;124m\"\u001b[39m\u001b[38;5;124mgroupby\u001b[39m\u001b[38;5;124m\"\u001b[39m)\n",
      "File \u001b[1;32m~\\anaconda3\\Lib\\site-packages\\pandas\\core\\groupby\\groupby.py:1998\u001b[0m, in \u001b[0;36mGroupBy._cython_agg_general\u001b[1;34m(self, how, alt, numeric_only, min_count, **kwargs)\u001b[0m\n\u001b[0;32m   1995\u001b[0m     result \u001b[38;5;241m=\u001b[39m \u001b[38;5;28mself\u001b[39m\u001b[38;5;241m.\u001b[39m_agg_py_fallback(how, values, ndim\u001b[38;5;241m=\u001b[39mdata\u001b[38;5;241m.\u001b[39mndim, alt\u001b[38;5;241m=\u001b[39malt)\n\u001b[0;32m   1996\u001b[0m     \u001b[38;5;28;01mreturn\u001b[39;00m result\n\u001b[1;32m-> 1998\u001b[0m new_mgr \u001b[38;5;241m=\u001b[39m data\u001b[38;5;241m.\u001b[39mgrouped_reduce(array_func)\n\u001b[0;32m   1999\u001b[0m res \u001b[38;5;241m=\u001b[39m \u001b[38;5;28mself\u001b[39m\u001b[38;5;241m.\u001b[39m_wrap_agged_manager(new_mgr)\n\u001b[0;32m   2000\u001b[0m \u001b[38;5;28;01mif\u001b[39;00m how \u001b[38;5;129;01min\u001b[39;00m [\u001b[38;5;124m\"\u001b[39m\u001b[38;5;124midxmin\u001b[39m\u001b[38;5;124m\"\u001b[39m, \u001b[38;5;124m\"\u001b[39m\u001b[38;5;124midxmax\u001b[39m\u001b[38;5;124m\"\u001b[39m]:\n",
      "File \u001b[1;32m~\\anaconda3\\Lib\\site-packages\\pandas\\core\\internals\\managers.py:1469\u001b[0m, in \u001b[0;36mBlockManager.grouped_reduce\u001b[1;34m(self, func)\u001b[0m\n\u001b[0;32m   1465\u001b[0m \u001b[38;5;28;01mif\u001b[39;00m blk\u001b[38;5;241m.\u001b[39mis_object:\n\u001b[0;32m   1466\u001b[0m     \u001b[38;5;66;03m# split on object-dtype blocks bc some columns may raise\u001b[39;00m\n\u001b[0;32m   1467\u001b[0m     \u001b[38;5;66;03m#  while others do not.\u001b[39;00m\n\u001b[0;32m   1468\u001b[0m     \u001b[38;5;28;01mfor\u001b[39;00m sb \u001b[38;5;129;01min\u001b[39;00m blk\u001b[38;5;241m.\u001b[39m_split():\n\u001b[1;32m-> 1469\u001b[0m         applied \u001b[38;5;241m=\u001b[39m sb\u001b[38;5;241m.\u001b[39mapply(func)\n\u001b[0;32m   1470\u001b[0m         result_blocks \u001b[38;5;241m=\u001b[39m extend_blocks(applied, result_blocks)\n\u001b[0;32m   1471\u001b[0m \u001b[38;5;28;01melse\u001b[39;00m:\n",
      "File \u001b[1;32m~\\anaconda3\\Lib\\site-packages\\pandas\\core\\internals\\blocks.py:393\u001b[0m, in \u001b[0;36mBlock.apply\u001b[1;34m(self, func, **kwargs)\u001b[0m\n\u001b[0;32m    387\u001b[0m \u001b[38;5;129m@final\u001b[39m\n\u001b[0;32m    388\u001b[0m \u001b[38;5;28;01mdef\u001b[39;00m \u001b[38;5;21mapply\u001b[39m(\u001b[38;5;28mself\u001b[39m, func, \u001b[38;5;241m*\u001b[39m\u001b[38;5;241m*\u001b[39mkwargs) \u001b[38;5;241m-\u001b[39m\u001b[38;5;241m>\u001b[39m \u001b[38;5;28mlist\u001b[39m[Block]:\n\u001b[0;32m    389\u001b[0m \u001b[38;5;250m    \u001b[39m\u001b[38;5;124;03m\"\"\"\u001b[39;00m\n\u001b[0;32m    390\u001b[0m \u001b[38;5;124;03m    apply the function to my values; return a block if we are not\u001b[39;00m\n\u001b[0;32m    391\u001b[0m \u001b[38;5;124;03m    one\u001b[39;00m\n\u001b[0;32m    392\u001b[0m \u001b[38;5;124;03m    \"\"\"\u001b[39;00m\n\u001b[1;32m--> 393\u001b[0m     result \u001b[38;5;241m=\u001b[39m func(\u001b[38;5;28mself\u001b[39m\u001b[38;5;241m.\u001b[39mvalues, \u001b[38;5;241m*\u001b[39m\u001b[38;5;241m*\u001b[39mkwargs)\n\u001b[0;32m    395\u001b[0m     result \u001b[38;5;241m=\u001b[39m maybe_coerce_values(result)\n\u001b[0;32m    396\u001b[0m     \u001b[38;5;28;01mreturn\u001b[39;00m \u001b[38;5;28mself\u001b[39m\u001b[38;5;241m.\u001b[39m_split_op_result(result)\n",
      "File \u001b[1;32m~\\anaconda3\\Lib\\site-packages\\pandas\\core\\groupby\\groupby.py:1995\u001b[0m, in \u001b[0;36mGroupBy._cython_agg_general.<locals>.array_func\u001b[1;34m(values)\u001b[0m\n\u001b[0;32m   1992\u001b[0m     \u001b[38;5;28;01mreturn\u001b[39;00m result\n\u001b[0;32m   1994\u001b[0m \u001b[38;5;28;01massert\u001b[39;00m alt \u001b[38;5;129;01mis\u001b[39;00m \u001b[38;5;129;01mnot\u001b[39;00m \u001b[38;5;28;01mNone\u001b[39;00m\n\u001b[1;32m-> 1995\u001b[0m result \u001b[38;5;241m=\u001b[39m \u001b[38;5;28mself\u001b[39m\u001b[38;5;241m.\u001b[39m_agg_py_fallback(how, values, ndim\u001b[38;5;241m=\u001b[39mdata\u001b[38;5;241m.\u001b[39mndim, alt\u001b[38;5;241m=\u001b[39malt)\n\u001b[0;32m   1996\u001b[0m \u001b[38;5;28;01mreturn\u001b[39;00m result\n",
      "File \u001b[1;32m~\\anaconda3\\Lib\\site-packages\\pandas\\core\\groupby\\groupby.py:1946\u001b[0m, in \u001b[0;36mGroupBy._agg_py_fallback\u001b[1;34m(self, how, values, ndim, alt)\u001b[0m\n\u001b[0;32m   1944\u001b[0m     msg \u001b[38;5;241m=\u001b[39m \u001b[38;5;124mf\u001b[39m\u001b[38;5;124m\"\u001b[39m\u001b[38;5;124magg function failed [how->\u001b[39m\u001b[38;5;132;01m{\u001b[39;00mhow\u001b[38;5;132;01m}\u001b[39;00m\u001b[38;5;124m,dtype->\u001b[39m\u001b[38;5;132;01m{\u001b[39;00mser\u001b[38;5;241m.\u001b[39mdtype\u001b[38;5;132;01m}\u001b[39;00m\u001b[38;5;124m]\u001b[39m\u001b[38;5;124m\"\u001b[39m\n\u001b[0;32m   1945\u001b[0m     \u001b[38;5;66;03m# preserve the kind of exception that raised\u001b[39;00m\n\u001b[1;32m-> 1946\u001b[0m     \u001b[38;5;28;01mraise\u001b[39;00m \u001b[38;5;28mtype\u001b[39m(err)(msg) \u001b[38;5;28;01mfrom\u001b[39;00m \u001b[38;5;21;01merr\u001b[39;00m\n\u001b[0;32m   1948\u001b[0m \u001b[38;5;28;01mif\u001b[39;00m ser\u001b[38;5;241m.\u001b[39mdtype \u001b[38;5;241m==\u001b[39m \u001b[38;5;28mobject\u001b[39m:\n\u001b[0;32m   1949\u001b[0m     res_values \u001b[38;5;241m=\u001b[39m res_values\u001b[38;5;241m.\u001b[39mastype(\u001b[38;5;28mobject\u001b[39m, copy\u001b[38;5;241m=\u001b[39m\u001b[38;5;28;01mFalse\u001b[39;00m)\n",
      "\u001b[1;31mTypeError\u001b[0m: agg function failed [how->mean,dtype->object]"
     ]
    }
   ],
   "source": [
    "data.groupby('Grade').mean()"
   ]
  },
  {
   "cell_type": "code",
   "execution_count": 193,
   "id": "cd246474-f698-4a95-9cbd-f140a9409c16",
   "metadata": {},
   "outputs": [
    {
     "data": {
      "text/plain": [
       "Rank              object\n",
       "Grade              int64\n",
       "Video Uploads      int32\n",
       "Subscribers        int32\n",
       "Video views        int64\n",
       "Avg_Views        float64\n",
       "dtype: object"
      ]
     },
     "execution_count": 193,
     "metadata": {},
     "output_type": "execute_result"
    }
   ],
   "source": [
    "data.dtypes"
   ]
  },
  {
   "cell_type": "code",
   "execution_count": null,
   "id": "bd8ec3c0-cae6-4095-a98f-906a0e8ed27a",
   "metadata": {},
   "outputs": [],
   "source": []
  }
 ],
 "metadata": {
  "kernelspec": {
   "display_name": "Python 3 (ipykernel)",
   "language": "python",
   "name": "python3"
  },
  "language_info": {
   "codemirror_mode": {
    "name": "ipython",
    "version": 3
   },
   "file_extension": ".py",
   "mimetype": "text/x-python",
   "name": "python",
   "nbconvert_exporter": "python",
   "pygments_lexer": "ipython3",
   "version": "3.12.7"
  }
 },
 "nbformat": 4,
 "nbformat_minor": 5
}
